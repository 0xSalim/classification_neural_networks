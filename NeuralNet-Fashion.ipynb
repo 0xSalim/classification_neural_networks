{
 "cells": [
  {
   "cell_type": "markdown",
   "metadata": {},
   "source": [
    "# Projet Python\n",
    "## Classification d'images avec réseaux de neurones\n",
    "Wael Osmani - Salim Talout Zitan"
   ]
  },
  {
   "cell_type": "markdown",
   "metadata": {},
   "source": [
    "### Import des librairies :"
   ]
  },
  {
   "cell_type": "code",
   "execution_count": 42,
   "metadata": {},
   "outputs": [],
   "source": [
    "import tensorflow as tf\n",
    "from tensorflow import keras\n",
    "from tensorflow.keras import Sequential\n",
    "from tensorflow.keras.layers import Flatten, Dense\n",
    "import numpy as np\n",
    "import matplotlib.pyplot as plt"
   ]
  },
  {
   "cell_type": "markdown",
   "metadata": {},
   "source": [
    "### Import des données"
   ]
  },
  {
   "cell_type": "code",
   "execution_count": 4,
   "metadata": {},
   "outputs": [],
   "source": [
    "from keras.datasets import fashion_mnist\n",
    "(x_train, y_train), (x_test, y_test) = fashion_mnist.load_data()"
   ]
  },
  {
   "cell_type": "markdown",
   "metadata": {},
   "source": [
    "Les objets **x_train**, **y_train**, **x_test** et **y_test** sont des ndarrays."
   ]
  },
  {
   "cell_type": "markdown",
   "metadata": {},
   "source": [
    "### Informations sur les données"
   ]
  },
  {
   "cell_type": "markdown",
   "metadata": {},
   "source": [
    "#### Données d'entrainement"
   ]
  },
  {
   "cell_type": "code",
   "execution_count": 7,
   "metadata": {},
   "outputs": [
    {
     "data": {
      "text/plain": [
       "(60000, 28, 28)"
      ]
     },
     "execution_count": 7,
     "metadata": {},
     "output_type": "execute_result"
    }
   ],
   "source": [
    "x_train.shape"
   ]
  },
  {
   "cell_type": "markdown",
   "metadata": {},
   "source": [
    "Nous avons donc 60 000 images d'entrainement de 28x28 pixels."
   ]
  },
  {
   "cell_type": "code",
   "execution_count": 8,
   "metadata": {},
   "outputs": [
    {
     "data": {
      "text/plain": [
       "60000"
      ]
     },
     "execution_count": 8,
     "metadata": {},
     "output_type": "execute_result"
    }
   ],
   "source": [
    "len(y_train)"
   ]
  },
  {
   "cell_type": "markdown",
   "metadata": {},
   "source": [
    "Nous avons aussi 60 000 labels associés aux images d'entrainement."
   ]
  },
  {
   "cell_type": "code",
   "execution_count": 13,
   "metadata": {},
   "outputs": [
    {
     "data": {
      "text/plain": [
       "array([0, 1, 2, 3, 4, 5, 6, 7, 8, 9], dtype=uint8)"
      ]
     },
     "execution_count": 13,
     "metadata": {},
     "output_type": "execute_result"
    }
   ],
   "source": [
    "np.unique(y_train)"
   ]
  },
  {
   "cell_type": "markdown",
   "metadata": {},
   "source": [
    "Les labels sont des chiffres entiers entre 0 et 9. Ajoutons donc les noms des labels."
   ]
  },
  {
   "cell_type": "code",
   "execution_count": 14,
   "metadata": {},
   "outputs": [],
   "source": [
    "class_names = ['T-shirt/top', 'Trouser', 'Pullover', 'Dress', 'Coat', \n",
    "               'Sandal', 'Shirt', 'Sneaker', 'Bag', 'Ankle boot']"
   ]
  },
  {
   "cell_type": "markdown",
   "metadata": {},
   "source": [
    "#### Données de test"
   ]
  },
  {
   "cell_type": "code",
   "execution_count": 15,
   "metadata": {},
   "outputs": [
    {
     "data": {
      "text/plain": [
       "(10000, 28, 28)"
      ]
     },
     "execution_count": 15,
     "metadata": {},
     "output_type": "execute_result"
    }
   ],
   "source": [
    "x_test.shape"
   ]
  },
  {
   "cell_type": "markdown",
   "metadata": {},
   "source": [
    "Nous avons donc 10 000 images de test de 28x28 pixels."
   ]
  },
  {
   "cell_type": "code",
   "execution_count": 16,
   "metadata": {},
   "outputs": [
    {
     "data": {
      "text/plain": [
       "10000"
      ]
     },
     "execution_count": 16,
     "metadata": {},
     "output_type": "execute_result"
    }
   ],
   "source": [
    "len(y_test)"
   ]
  },
  {
   "cell_type": "markdown",
   "metadata": {},
   "source": [
    "De la même façon, nous avons 10 000 labels associés aux images de test."
   ]
  },
  {
   "cell_type": "markdown",
   "metadata": {},
   "source": [
    "### Prétraitement des données"
   ]
  },
  {
   "cell_type": "markdown",
   "metadata": {},
   "source": [
    "Avant d'entrainer le modèle, voyons à quoi ressemblent nos données."
   ]
  },
  {
   "cell_type": "code",
   "execution_count": 26,
   "metadata": {},
   "outputs": [
    {
     "data": {
      "image/png": "[encoded data removed]",
      "text/plain": [
       "<Figure size 432x288 with 2 Axes>"
      ]
     },
     "metadata": {},
     "output_type": "display_data"
    }
   ],
   "source": [
    "plt.figure()\n",
    "plt.imshow(x_train[69], cmap='gray')\n",
    "plt.colorbar()\n",
    "plt.grid(False)"
   ]
  },
  {
   "cell_type": "markdown",
   "metadata": {},
   "source": [
    "Les valeurs des pixels vont de 0 à 255. Passons ces valeurs à une échelle allant de 0 à 1."
   ]
  },
  {
   "cell_type": "code",
   "execution_count": 27,
   "metadata": {},
   "outputs": [],
   "source": [
    "x_train = x_train/255\n",
    "x_test = x_test/255"
   ]
  },
  {
   "cell_type": "code",
   "execution_count": 28,
   "metadata": {},
   "outputs": [
    {
     "data": {
      "image/png": "[encoded data removed]",
      "text/plain": [
       "<Figure size 432x288 with 2 Axes>"
      ]
     },
     "metadata": {},
     "output_type": "display_data"
    }
   ],
   "source": [
    "plt.figure()\n",
    "plt.imshow(x_train[69], cmap='gray')\n",
    "plt.colorbar()\n",
    "plt.grid(False)"
   ]
  },
  {
   "cell_type": "markdown",
   "metadata": {},
   "source": [
    "De cette manière, les pixels des données d'entrainement et de test vont de 0 à 1."
   ]
  },
  {
   "cell_type": "markdown",
   "metadata": {},
   "source": [
    "### Affichage d'un sample de données"
   ]
  },
  {
   "cell_type": "markdown",
   "metadata": {},
   "source": [
    "Affichons les différentes classes présentes dans cette base de donnée."
   ]
  },
  {
   "cell_type": "code",
   "execution_count": 41,
   "metadata": {},
   "outputs": [
    {
     "data": {
      "image/png": "[encoded data removed]",
      "text/plain": [
       "<Figure size 648x648 with 25 Axes>"
      ]
     },
     "metadata": {},
     "output_type": "display_data"
    }
   ],
   "source": [
    "plt.figure(figsize=(9,9))\n",
    "for i in range(25):\n",
    "    plt.subplot(5,5,i+1)\n",
    "    plt.xticks([])\n",
    "    plt.yticks([])\n",
    "    plt.grid(False)\n",
    "    plt.imshow(x_train[i], cmap=plt.cm.binary)\n",
    "    plt.xlabel(class_names[y_train[i]])"
   ]
  },
  {
   "cell_type": "markdown",
   "metadata": {},
   "source": [
    "### Le modèle"
   ]
  },
  {
   "cell_type": "markdown",
   "metadata": {},
   "source": [
    "#### Mise en place des couches"
   ]
  },
  {
   "cell_type": "code",
   "execution_count": 44,
   "metadata": {},
   "outputs": [],
   "source": [
    "model = Sequential([\n",
    "    Flatten(input_shape=(28, 28)),\n",
    "    Dense(128, activation=tf.nn.relu),\n",
    "    Dense(10, activation=tf.nn.softmax)\n",
    "])"
   ]
  },
  {
   "cell_type": "markdown",
   "metadata": {},
   "source": [
    "- La 1ère couche (Flatten) permet de transformer l'image 2D d'entrée (28x28) en vecteur 1D de 28x28 = 784 pixels.\n",
    "- Ensuite, les 2 autres couches sont des couches denses.\n",
    "    - La 1ère contient 128 neuronnes\n",
    "    - La 2ème retourne un tableau de 10 scores, qui indique la probabilité pour chaque score que l'image appartienne à une classe."
   ]
  },
  {
   "cell_type": "markdown",
   "metadata": {},
   "source": [
    "#### Compilation du modèle"
   ]
  },
  {
   "cell_type": "markdown",
   "metadata": {},
   "source": [
    "Avant d'entrainer le modèle, il faut ajouter certains paramètres.\n",
    "- Nous y ajouterons un *Optimizer*, qui permet de mettre à jour le modèle en fonction des données et de la *Loss function*\n",
    "- Ensuite, nous y ajouterons une *Loss function*, qui permet de tester la précision du modèle. Le but est faire tendre cette valeur vers 0.\n",
    "- Enfin, nous y ajouterons un *Metrics*, qui permet de monitorer les phases d'entrainement et de test, en indiquant les images correctement classifiées."
   ]
  },
  {
   "cell_type": "code",
   "execution_count": 45,
   "metadata": {},
   "outputs": [],
   "source": [
    "model.compile(optimizer=tf.train.AdamOptimizer(), \n",
    "              loss='sparse_categorical_crossentropy',\n",
    "              metrics=['accuracy'])"
   ]
  },
  {
   "cell_type": "markdown",
   "metadata": {},
   "source": [
    "#### Entrainement du modèle"
   ]
  },
  {
   "cell_type": "markdown",
   "metadata": {},
   "source": [
    "On donne au modèle les données d'entrainement, ainsi que leurs labels. Il apprendra ensuite à associer correctement les images et leurs labels, pour ainsi pourvoir faire des prédictions sur les données de test.\n",
    "Le nombre d'epochs correspond au nombre d'itérations que l'on souhaite réaliser, plus le nombre est grand, plus le modèle réussi à minimiser la Loss function. \n"
   ]
  },
  {
   "cell_type": "code",
   "execution_count": 48,
   "metadata": {},
   "outputs": [
    {
     "name": "stdout",
     "output_type": "stream",
     "text": [
      "Epoch 1/100\n",
      "60000/60000 [==============================] - 3s 46us/step - loss: 0.2308 - acc: 0.9147\n",
      "Epoch 2/100\n",
      "60000/60000 [==============================] - 2s 41us/step - loss: 0.2261 - acc: 0.9158\n",
      "Epoch 3/100\n",
      "60000/60000 [==============================] - 3s 45us/step - loss: 0.2166 - acc: 0.9194\n",
      "Epoch 4/100\n",
      "60000/60000 [==============================] - 3s 47us/step - loss: 0.2108 - acc: 0.9217\n",
      "Epoch 5/100\n",
      "60000/60000 [==============================] - 2s 42us/step - loss: 0.2040 - acc: 0.9245\n",
      "Epoch 6/100\n",
      "60000/60000 [==============================] - 3s 43us/step - loss: 0.1980 - acc: 0.9260\n",
      "Epoch 7/100\n",
      "60000/60000 [==============================] - 4s 60us/step - loss: 0.1915 - acc: 0.9279\n",
      "Epoch 8/100\n",
      "60000/60000 [==============================] - 3s 50us/step - loss: 0.1880 - acc: 0.9300\n",
      "Epoch 9/100\n",
      "60000/60000 [==============================] - 3s 49us/step - loss: 0.1827 - acc: 0.9315\n",
      "Epoch 10/100\n",
      "60000/60000 [==============================] - 3s 43us/step - loss: 0.1795 - acc: 0.9332\n",
      "Epoch 11/100\n",
      "60000/60000 [==============================] - 3s 42us/step - loss: 0.1742 - acc: 0.9340\n",
      "Epoch 12/100\n",
      "60000/60000 [==============================] - 3s 43us/step - loss: 0.1698 - acc: 0.9364\n",
      "Epoch 13/100\n",
      "60000/60000 [==============================] - 3s 52us/step - loss: 0.1670 - acc: 0.9377\n",
      "Epoch 14/100\n",
      "60000/60000 [==============================] - 3s 45us/step - loss: 0.1621 - acc: 0.9395\n",
      "Epoch 15/100\n",
      "60000/60000 [==============================] - 3s 49us/step - loss: 0.1581 - acc: 0.9398: 0s - loss: 0.1561 - acc\n",
      "Epoch 16/100\n",
      "60000/60000 [==============================] - 3s 51us/step - loss: 0.1567 - acc: 0.9405\n",
      "Epoch 17/100\n",
      "60000/60000 [==============================] - 3s 54us/step - loss: 0.1508 - acc: 0.9435\n",
      "Epoch 18/100\n",
      "60000/60000 [==============================] - 3s 43us/step - loss: 0.1488 - acc: 0.9445: 1s - lo\n",
      "Epoch 19/100\n",
      "60000/60000 [==============================] - 3s 43us/step - loss: 0.1447 - acc: 0.9456\n",
      "Epoch 20/100\n",
      "60000/60000 [==============================] - 3s 51us/step - loss: 0.1425 - acc: 0.9468\n",
      "Epoch 21/100\n",
      "60000/60000 [==============================] - 3s 46us/step - loss: 0.1387 - acc: 0.9475\n",
      "Epoch 22/100\n",
      "60000/60000 [==============================] - 3s 49us/step - loss: 0.1360 - acc: 0.9489\n",
      "Epoch 23/100\n",
      "60000/60000 [==============================] - 3s 44us/step - loss: 0.1332 - acc: 0.9498\n",
      "Epoch 24/100\n",
      "60000/60000 [==============================] - 3s 44us/step - loss: 0.1320 - acc: 0.9514\n",
      "Epoch 25/100\n",
      "60000/60000 [==============================] - 3s 45us/step - loss: 0.1292 - acc: 0.9515\n",
      "Epoch 26/100\n",
      "60000/60000 [==============================] - 3s 46us/step - loss: 0.1245 - acc: 0.9539\n",
      "Epoch 27/100\n",
      "60000/60000 [==============================] - 3s 44us/step - loss: 0.1243 - acc: 0.9537\n",
      "Epoch 28/100\n",
      "60000/60000 [==============================] - 3s 44us/step - loss: 0.1209 - acc: 0.9544\n",
      "Epoch 29/100\n",
      "60000/60000 [==============================] - 3s 43us/step - loss: 0.1199 - acc: 0.9554: \n",
      "Epoch 30/100\n",
      "60000/60000 [==============================] - 3s 44us/step - loss: 0.1159 - acc: 0.9557\n",
      "Epoch 31/100\n",
      "60000/60000 [==============================] - 3s 43us/step - loss: 0.1146 - acc: 0.9567\n",
      "Epoch 32/100\n",
      "60000/60000 [==============================] - 3s 46us/step - loss: 0.1125 - acc: 0.9577\n",
      "Epoch 33/100\n",
      "60000/60000 [==============================] - 3s 44us/step - loss: 0.1120 - acc: 0.9581\n",
      "Epoch 34/100\n",
      "60000/60000 [==============================] - 3s 43us/step - loss: 0.1095 - acc: 0.9596\n",
      "Epoch 35/100\n",
      "60000/60000 [==============================] - 3s 51us/step - loss: 0.1073 - acc: 0.9604\n",
      "Epoch 36/100\n",
      "60000/60000 [==============================] - 3s 47us/step - loss: 0.1066 - acc: 0.9598\n",
      "Epoch 37/100\n",
      "60000/60000 [==============================] - 3s 44us/step - loss: 0.1044 - acc: 0.9613\n",
      "Epoch 38/100\n",
      "60000/60000 [==============================] - 3s 44us/step - loss: 0.1024 - acc: 0.9619\n",
      "Epoch 39/100\n",
      "60000/60000 [==============================] - 3s 51us/step - loss: 0.1023 - acc: 0.9621\n",
      "Epoch 40/100\n",
      "60000/60000 [==============================] - 3s 44us/step - loss: 0.0996 - acc: 0.9631\n",
      "Epoch 41/100\n",
      "60000/60000 [==============================] - 3s 43us/step - loss: 0.0986 - acc: 0.9633\n",
      "Epoch 42/100\n",
      "60000/60000 [==============================] - 3s 46us/step - loss: 0.0978 - acc: 0.9636: 0s - loss: \n",
      "Epoch 43/100\n",
      "60000/60000 [==============================] - 3s 46us/step - loss: 0.0955 - acc: 0.9643\n",
      "Epoch 44/100\n",
      "60000/60000 [==============================] - 3s 51us/step - loss: 0.0933 - acc: 0.9651\n",
      "Epoch 45/100\n",
      "60000/60000 [==============================] - 3s 42us/step - loss: 0.0905 - acc: 0.9662\n",
      "Epoch 46/100\n",
      "60000/60000 [==============================] - 3s 44us/step - loss: 0.0898 - acc: 0.9670\n",
      "Epoch 47/100\n",
      "60000/60000 [==============================] - 3s 43us/step - loss: 0.0885 - acc: 0.9667\n",
      "Epoch 48/100\n",
      "60000/60000 [==============================] - 3s 45us/step - loss: 0.0901 - acc: 0.9664\n",
      "Epoch 49/100\n",
      "60000/60000 [==============================] - 3s 48us/step - loss: 0.0864 - acc: 0.9682\n",
      "Epoch 50/100\n",
      "60000/60000 [==============================] - 3s 45us/step - loss: 0.0843 - acc: 0.9687\n",
      "Epoch 51/100\n",
      "60000/60000 [==============================] - 3s 42us/step - loss: 0.0847 - acc: 0.9687\n",
      "Epoch 52/100\n",
      "60000/60000 [==============================] - 3s 49us/step - loss: 0.0840 - acc: 0.9683\n",
      "Epoch 53/100\n",
      "60000/60000 [==============================] - 3s 49us/step - loss: 0.0833 - acc: 0.9686\n",
      "Epoch 54/100\n",
      "60000/60000 [==============================] - 3s 45us/step - loss: 0.0822 - acc: 0.9693\n",
      "Epoch 55/100\n",
      "60000/60000 [==============================] - 3s 47us/step - loss: 0.0801 - acc: 0.9708\n",
      "Epoch 56/100\n",
      "60000/60000 [==============================] - 3s 45us/step - loss: 0.0795 - acc: 0.9702\n",
      "Epoch 57/100\n",
      "60000/60000 [==============================] - 3s 42us/step - loss: 0.0780 - acc: 0.9711\n",
      "Epoch 58/100\n",
      "60000/60000 [==============================] - 3s 42us/step - loss: 0.0782 - acc: 0.9714\n",
      "Epoch 59/100\n",
      "60000/60000 [==============================] - 2s 41us/step - loss: 0.0764 - acc: 0.9712\n",
      "Epoch 60/100\n",
      "60000/60000 [==============================] - 3s 42us/step - loss: 0.0766 - acc: 0.9722\n",
      "Epoch 61/100\n",
      "60000/60000 [==============================] - 3s 42us/step - loss: 0.0747 - acc: 0.9723\n",
      "Epoch 62/100\n",
      "60000/60000 [==============================] - 3s 42us/step - loss: 0.0729 - acc: 0.9731\n",
      "Epoch 63/100\n",
      "60000/60000 [==============================] - 3s 42us/step - loss: 0.0710 - acc: 0.9734\n",
      "Epoch 64/100\n",
      "60000/60000 [==============================] - 3s 42us/step - loss: 0.0725 - acc: 0.9736\n",
      "Epoch 65/100\n",
      "60000/60000 [==============================] - 3s 42us/step - loss: 0.0714 - acc: 0.9733\n",
      "Epoch 66/100\n",
      "60000/60000 [==============================] - 3s 44us/step - loss: 0.0696 - acc: 0.9744\n",
      "Epoch 67/100\n",
      "60000/60000 [==============================] - 2s 42us/step - loss: 0.0693 - acc: 0.9744\n",
      "Epoch 68/100\n",
      "60000/60000 [==============================] - 3s 42us/step - loss: 0.0689 - acc: 0.9740\n",
      "Epoch 69/100\n",
      "60000/60000 [==============================] - 3s 43us/step - loss: 0.0665 - acc: 0.9753\n",
      "Epoch 70/100\n",
      "60000/60000 [==============================] - 3s 44us/step - loss: 0.0672 - acc: 0.9752\n",
      "Epoch 71/100\n",
      "60000/60000 [==============================] - 2s 41us/step - loss: 0.0693 - acc: 0.9744\n",
      "Epoch 72/100\n",
      "60000/60000 [==============================] - 3s 42us/step - loss: 0.0642 - acc: 0.9763\n",
      "Epoch 73/100\n",
      "60000/60000 [==============================] - 2s 42us/step - loss: 0.0646 - acc: 0.9762\n",
      "Epoch 74/100\n",
      "60000/60000 [==============================] - 2s 41us/step - loss: 0.0642 - acc: 0.9761\n",
      "Epoch 75/100\n",
      "60000/60000 [==============================] - 3s 42us/step - loss: 0.0639 - acc: 0.9761\n",
      "Epoch 76/100\n",
      "60000/60000 [==============================] - 2s 42us/step - loss: 0.0640 - acc: 0.9759\n",
      "Epoch 77/100\n",
      "60000/60000 [==============================] - 3s 43us/step - loss: 0.0601 - acc: 0.9774\n",
      "Epoch 78/100\n",
      "60000/60000 [==============================] - 2s 41us/step - loss: 0.0602 - acc: 0.9777\n",
      "Epoch 79/100\n",
      "60000/60000 [==============================] - 2s 42us/step - loss: 0.0594 - acc: 0.9778\n",
      "Epoch 80/100\n"
     ]
    },
    {
     "name": "stdout",
     "output_type": "stream",
     "text": [
      "60000/60000 [==============================] - 2s 41us/step - loss: 0.0588 - acc: 0.9782\n",
      "Epoch 81/100\n",
      "60000/60000 [==============================] - 2s 41us/step - loss: 0.0578 - acc: 0.9787\n",
      "Epoch 82/100\n",
      "60000/60000 [==============================] - 2s 41us/step - loss: 0.0603 - acc: 0.9772\n",
      "Epoch 83/100\n",
      "60000/60000 [==============================] - 2s 41us/step - loss: 0.0601 - acc: 0.9775\n",
      "Epoch 84/100\n",
      "60000/60000 [==============================] - 2s 41us/step - loss: 0.0574 - acc: 0.9786\n",
      "Epoch 85/100\n",
      "60000/60000 [==============================] - 3s 43us/step - loss: 0.0573 - acc: 0.9789\n",
      "Epoch 86/100\n",
      "60000/60000 [==============================] - 2s 41us/step - loss: 0.0559 - acc: 0.9786\n",
      "Epoch 87/100\n",
      "60000/60000 [==============================] - 2s 41us/step - loss: 0.0542 - acc: 0.9803\n",
      "Epoch 88/100\n",
      "60000/60000 [==============================] - 2s 41us/step - loss: 0.0550 - acc: 0.9799\n",
      "Epoch 89/100\n",
      "60000/60000 [==============================] - 3s 43us/step - loss: 0.0552 - acc: 0.9793\n",
      "Epoch 90/100\n",
      "60000/60000 [==============================] - 3s 42us/step - loss: 0.0539 - acc: 0.9802\n",
      "Epoch 91/100\n",
      "60000/60000 [==============================] - 2s 41us/step - loss: 0.0512 - acc: 0.9813\n",
      "Epoch 92/100\n",
      "60000/60000 [==============================] - 2s 41us/step - loss: 0.0549 - acc: 0.9791\n",
      "Epoch 93/100\n",
      "60000/60000 [==============================] - 2s 41us/step - loss: 0.0515 - acc: 0.9812\n",
      "Epoch 94/100\n",
      "60000/60000 [==============================] - 2s 41us/step - loss: 0.0510 - acc: 0.9817\n",
      "Epoch 95/100\n",
      "60000/60000 [==============================] - 3s 43us/step - loss: 0.0559 - acc: 0.9797\n",
      "Epoch 96/100\n",
      "60000/60000 [==============================] - 2s 41us/step - loss: 0.0511 - acc: 0.9815\n",
      "Epoch 97/100\n",
      "60000/60000 [==============================] - 2s 41us/step - loss: 0.0492 - acc: 0.9821\n",
      "Epoch 98/100\n",
      "60000/60000 [==============================] - 2s 41us/step - loss: 0.0494 - acc: 0.9821\n",
      "Epoch 99/100\n",
      "60000/60000 [==============================] - 2s 41us/step - loss: 0.0515 - acc: 0.9813\n",
      "Epoch 100/100\n",
      "60000/60000 [==============================] - 2s 42us/step - loss: 0.0496 - acc: 0.9814\n"
     ]
    },
    {
     "data": {
      "text/plain": [
       "<tensorflow.python.keras.callbacks.History at 0xb22e6eac8>"
      ]
     },
     "execution_count": 48,
     "metadata": {},
     "output_type": "execute_result"
    }
   ],
   "source": [
    "model.fit(x_train, y_train, epochs=100)"
   ]
  },
  {
   "cell_type": "markdown",
   "metadata": {},
   "source": [
    "- 10 epochs donnent une précision de 91%.\n",
    "- 100 epochs donnent une précision de 98.1%"
   ]
  },
  {
   "cell_type": "markdown",
   "metadata": {},
   "source": [
    "#### Évaluation du modèle"
   ]
  },
  {
   "cell_type": "markdown",
   "metadata": {},
   "source": [
    "Voyons maintenant comment se comporte le modèle avec les données de test."
   ]
  },
  {
   "cell_type": "code",
   "execution_count": 50,
   "metadata": {},
   "outputs": [
    {
     "name": "stdout",
     "output_type": "stream",
     "text": [
      "10000/10000 [==============================] - 0s 33us/step\n",
      "Précision sur données de test :  0.8858\n"
     ]
    }
   ],
   "source": [
    "test_loss, test_acc = model.evaluate(x_test, y_test)\n",
    "print('Précision sur données de test : ', test_acc)"
   ]
  },
  {
   "cell_type": "markdown",
   "metadata": {},
   "source": [
    "On voit que le modèle perd 10% de précision. Cette différence entre précision d'entrainement et de test est un exemple de *sur-apprentissage*.\n",
    "Le sur-apprentissage est un phénomène en statistique, où le modèle s'adapte à un ensemble **particulier** de données, ainsi, lorsqu'on le teste sur d'autres données, celui-ci ne se généralise pas de la manière attendue, et perd en précision."
   ]
  },
  {
   "cell_type": "markdown",
   "metadata": {},
   "source": [
    "### Prédictions sur des images"
   ]
  },
  {
   "cell_type": "markdown",
   "metadata": {},
   "source": [
    "Gardons ce modèle et testons de prédire les classes que quelques images."
   ]
  },
  {
   "cell_type": "code",
   "execution_count": 54,
   "metadata": {},
   "outputs": [],
   "source": [
    "predictions = model.predict(x_test)"
   ]
  },
  {
   "cell_type": "markdown",
   "metadata": {},
   "source": [
    "L'objet *predictions* contient un tableau de scores pour chaque image de test."
   ]
  },
  {
   "cell_type": "code",
   "execution_count": 57,
   "metadata": {},
   "outputs": [
    {
     "data": {
      "text/plain": [
       "array([8.5210445e-32, 0.0000000e+00, 3.6373668e-37, 0.0000000e+00,\n",
       "       0.0000000e+00, 3.5189611e-14, 1.3414591e-31, 5.0196199e-14,\n",
       "       4.1560237e-26, 1.0000000e+00], dtype=float32)"
      ]
     },
     "execution_count": 57,
     "metadata": {},
     "output_type": "execute_result"
    }
   ],
   "source": [
    "predictions[0]"
   ]
  },
  {
   "cell_type": "markdown",
   "metadata": {},
   "source": [
    "Par exemple, la 1ère image de test appartient à la classe 9 (car c'est la plus proche de 1).\n",
    "Affichons ces résultats correctement..."
   ]
  },
  {
   "cell_type": "code",
   "execution_count": 62,
   "metadata": {},
   "outputs": [],
   "source": [
    "def plot_image(i, predictions_array, true_label, img):\n",
    "  predictions_array, true_label, img = predictions_array[i], true_label[i], img[i]\n",
    "  plt.grid(False)\n",
    "  plt.xticks([])\n",
    "  plt.yticks([])\n",
    "  \n",
    "  plt.imshow(img, cmap=plt.cm.binary)\n",
    "\n",
    "  predicted_label = np.argmax(predictions_array)\n",
    "  if predicted_label == true_label:\n",
    "    color = 'blue'\n",
    "  else:\n",
    "    color = 'red'\n",
    "  \n",
    "  plt.xlabel(\"{} {:2.0f}% ({})\".format(class_names[predicted_label],\n",
    "                                100*np.max(predictions_array),\n",
    "                                class_names[true_label]),\n",
    "                                color=color)\n",
    "\n",
    "\n",
    "def plot_value_array(i, predictions_array, true_label):\n",
    "  predictions_array, true_label = predictions_array[i], true_label[i]\n",
    "  plt.grid(False)\n",
    "  plt.xticks([])\n",
    "  plt.yticks([])\n",
    "  thisplot = plt.bar(range(10), predictions_array, color=\"#777777\")\n",
    "  plt.ylim([0, 1]) \n",
    "  predicted_label = np.argmax(predictions_array)\n",
    " \n",
    "  thisplot[predicted_label].set_color('red')\n",
    "  thisplot[true_label].set_color('blue')"
   ]
  },
  {
   "cell_type": "code",
   "execution_count": 70,
   "metadata": {},
   "outputs": [
    {
     "data": {
      "image/png": "[encoded data removed]",
      "text/plain": [
       "<Figure size 432x216 with 2 Axes>"
      ]
     },
     "metadata": {},
     "output_type": "display_data"
    }
   ],
   "source": [
    "i = 0\n",
    "plt.figure(figsize=(6,3))\n",
    "plt.subplot(1,2,1)\n",
    "plot_image(i, predictions, y_test, x_test)\n",
    "plt.subplot(1,2,2)\n",
    "plot_value_array(i, predictions,  y_test)"
   ]
  },
  {
   "cell_type": "markdown",
   "metadata": {},
   "source": [
    "Ici, le label est bien prédit."
   ]
  },
  {
   "cell_type": "code",
   "execution_count": 71,
   "metadata": {},
   "outputs": [
    {
     "data": {
      "image/png": "[encoded data removed]",
      "text/plain": [
       "<Figure size 432x216 with 2 Axes>"
      ]
     },
     "metadata": {},
     "output_type": "display_data"
    }
   ],
   "source": [
    "i = 4\n",
    "plt.figure(figsize=(6,3))\n",
    "plt.subplot(1,2,1)\n",
    "plot_image(i, predictions, y_test, x_test)\n",
    "plt.subplot(1,2,2)\n",
    "plot_value_array(i, predictions,  y_test)"
   ]
  },
  {
   "cell_type": "markdown",
   "metadata": {},
   "source": [
    "Pour cette image, le modèle ne trouve pas le bon label, et confond une chemise et un T-Shirt."
   ]
  },
  {
   "cell_type": "code",
   "execution_count": null,
   "metadata": {},
   "outputs": [],
   "source": []
  }
 ],
 "metadata": {
  "kernelspec": {
   "display_name": "Python 3",
   "language": "python",
   "name": "python3"
  },
  "language_info": {
   "codemirror_mode": {
    "name": "ipython",
    "version": 3
   },
   "file_extension": ".py",
   "mimetype": "text/x-python",
   "name": "python",
   "nbconvert_exporter": "python",
   "pygments_lexer": "ipython3",
   "version": "3.6.5"
  }
 },
 "nbformat": 4,
 "nbformat_minor": 2
}
