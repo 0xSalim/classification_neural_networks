{
 "cells": [
  {
   "cell_type": "markdown",
   "metadata": {},
   "source": [
    "# Projet Python\n",
    "\n",
    "## Classification d'images avec réseaux de neurones\n",
    "\n",
    "Wael Osmani - Salim Talout Zitan\n",
    "\n",
    "### Introduction\n",
    "\n",
    "Dans le cadre du PAO Python for nummies, nous avons réalisé un projet qui permet de classifier des images avec un réseaux de neurones. Ces images sont des pièces vêtements, comportant en tout 10 classes différentes. Nous allons tout d'abord importer les données d'entraînement et de test. Ensuite nous allons définir un réseau de neurones grâce à la librairie Keras. Puis nous allons compiler notre modèle pour ensuite l'entraîner. Enfin nous allons évaluer la précision de notre réseau sur les données de test, puis faire de la prédiction de classes sur les données test."
   ]
  },
  {
   "cell_type": "markdown",
   "metadata": {},
   "source": [
    "### Import des librairies :"
   ]
  },
  {
   "cell_type": "code",
   "execution_count": 2,
   "metadata": {},
   "outputs": [],
   "source": [
    "import tensorflow as tf\n",
    "from tensorflow import keras\n",
    "from tensorflow.keras import Sequential\n",
    "from tensorflow.keras.layers import Flatten, Dense\n",
    "import numpy as np\n",
    "import matplotlib.pyplot as plt"
   ]
  },
  {
   "cell_type": "markdown",
   "metadata": {},
   "source": [
    "### Import des données"
   ]
  },
  {
   "cell_type": "code",
   "execution_count": 3,
   "metadata": {},
   "outputs": [
    {
     "name": "stderr",
     "output_type": "stream",
     "text": [
      "Using TensorFlow backend.\n"
     ]
    }
   ],
   "source": [
    "from keras.datasets import fashion_mnist\n",
    "(x_train, y_train), (x_test, y_test) = fashion_mnist.load_data()"
   ]
  },
  {
   "cell_type": "markdown",
   "metadata": {},
   "source": [
    "Les objets **x_train**, **y_train**, **x_test** et **y_test** sont des ndarrays."
   ]
  },
  {
   "cell_type": "markdown",
   "metadata": {},
   "source": [
    "### Informations sur les données"
   ]
  },
  {
   "cell_type": "markdown",
   "metadata": {},
   "source": [
    "#### Données d'entrainement"
   ]
  },
  {
   "cell_type": "code",
   "execution_count": 4,
   "metadata": {},
   "outputs": [
    {
     "data": {
      "text/plain": [
       "(60000, 28, 28)"
      ]
     },
     "execution_count": 4,
     "metadata": {},
     "output_type": "execute_result"
    }
   ],
   "source": [
    "x_train.shape"
   ]
  },
  {
   "cell_type": "markdown",
   "metadata": {},
   "source": [
    "Nous avons donc 60 000 images d'entrainement de 28x28 pixels."
   ]
  },
  {
   "cell_type": "code",
   "execution_count": 5,
   "metadata": {},
   "outputs": [
    {
     "data": {
      "text/plain": [
       "60000"
      ]
     },
     "execution_count": 5,
     "metadata": {},
     "output_type": "execute_result"
    }
   ],
   "source": [
    "len(y_train)"
   ]
  },
  {
   "cell_type": "markdown",
   "metadata": {},
   "source": [
    "Nous avons aussi 60 000 labels associés aux images d'entrainement."
   ]
  },
  {
   "cell_type": "code",
   "execution_count": 6,
   "metadata": {},
   "outputs": [
    {
     "data": {
      "text/plain": [
       "array([0, 1, 2, 3, 4, 5, 6, 7, 8, 9], dtype=uint8)"
      ]
     },
     "execution_count": 6,
     "metadata": {},
     "output_type": "execute_result"
    }
   ],
   "source": [
    "np.unique(y_train)"
   ]
  },
  {
   "cell_type": "markdown",
   "metadata": {},
   "source": [
    "Les labels sont des chiffres entiers entre 0 et 9. Ajoutons donc les noms des labels."
   ]
  },
  {
   "cell_type": "code",
   "execution_count": 7,
   "metadata": {},
   "outputs": [],
   "source": [
    "class_names = ['T-shirt/top', 'Trouser', 'Pullover', 'Dress', 'Coat', \n",
    "               'Sandal', 'Shirt', 'Sneaker', 'Bag', 'Ankle boot']"
   ]
  },
  {
   "cell_type": "markdown",
   "metadata": {},
   "source": [
    "#### Données de test"
   ]
  },
  {
   "cell_type": "code",
   "execution_count": 8,
   "metadata": {},
   "outputs": [
    {
     "data": {
      "text/plain": [
       "(10000, 28, 28)"
      ]
     },
     "execution_count": 8,
     "metadata": {},
     "output_type": "execute_result"
    }
   ],
   "source": [
    "x_test.shape"
   ]
  },
  {
   "cell_type": "markdown",
   "metadata": {},
   "source": [
    "Nous avons donc 10 000 images de test de 28x28 pixels."
   ]
  },
  {
   "cell_type": "code",
   "execution_count": 9,
   "metadata": {},
   "outputs": [
    {
     "data": {
      "text/plain": [
       "10000"
      ]
     },
     "execution_count": 9,
     "metadata": {},
     "output_type": "execute_result"
    }
   ],
   "source": [
    "len(y_test)"
   ]
  },
  {
   "cell_type": "markdown",
   "metadata": {},
   "source": [
    "De la même façon, nous avons 10 000 labels associés aux images de test."
   ]
  },
  {
   "cell_type": "markdown",
   "metadata": {},
   "source": [
    "### Prétraitement des données"
   ]
  },
  {
   "cell_type": "markdown",
   "metadata": {},
   "source": [
    "Avant d'entrainer le modèle, voyons à quoi ressemblent nos données. Nous ajoutons `cmap=gray` pour afficher les images en noir et blanc."
   ]
  },
  {
   "cell_type": "code",
   "execution_count": 10,
   "metadata": {},
   "outputs": [
    {
     "data": {
      "image/png": "[encoded data removed]",
      "text/plain": [
       "<Figure size 432x288 with 2 Axes>"
      ]
     },
     "metadata": {},
     "output_type": "display_data"
    }
   ],
   "source": [
    "plt.figure()\n",
    "plt.imshow(x_train[69], cmap='gray')\n",
    "plt.colorbar()\n",
    "plt.grid(False)"
   ]
  },
  {
   "cell_type": "markdown",
   "metadata": {},
   "source": [
    "Les valeurs des pixels vont de 0 à 255. Passons ces valeurs à une échelle allant de 0 à 1."
   ]
  },
  {
   "cell_type": "code",
   "execution_count": 11,
   "metadata": {},
   "outputs": [],
   "source": [
    "x_train = x_train/255\n",
    "x_test = x_test/255"
   ]
  },
  {
   "cell_type": "code",
   "execution_count": 12,
   "metadata": {},
   "outputs": [
    {
     "data": {
      "image/png": "[encoded data removed]",
      "text/plain": [
       "<Figure size 432x288 with 2 Axes>"
      ]
     },
     "metadata": {},
     "output_type": "display_data"
    }
   ],
   "source": [
    "plt.figure()\n",
    "plt.imshow(x_train[69], cmap='gray')\n",
    "plt.colorbar()\n",
    "plt.grid(False)"
   ]
  },
  {
   "cell_type": "markdown",
   "metadata": {},
   "source": [
    "De cette manière, les pixels des données d'entrainement et de test vont de 0 à 1."
   ]
  },
  {
   "cell_type": "markdown",
   "metadata": {},
   "source": [
    "### Affichage d'un sample de données"
   ]
  },
  {
   "cell_type": "markdown",
   "metadata": {},
   "source": [
    "Affichons les différentes classes présentes dans cette base de donnée."
   ]
  },
  {
   "cell_type": "code",
   "execution_count": 16,
   "metadata": {},
   "outputs": [
    {
     "data": {
      "image/png": "[encoded data removed]",
      "text/plain": [
       "<Figure size 648x648 with 25 Axes>"
      ]
     },
     "metadata": {},
     "output_type": "display_data"
    }
   ],
   "source": [
    "plt.figure(figsize=(9,9))\n",
    "for i in range(25):\n",
    "    plt.subplot(5,5,i+1)\n",
    "    plt.xticks([])\n",
    "    plt.yticks([])\n",
    "    plt.grid(False)\n",
    "    plt.imshow(x_train[i], cmap='gray')\n",
    "    plt.xlabel(class_names[y_train[i]])"
   ]
  },
  {
   "cell_type": "markdown",
   "metadata": {},
   "source": [
    "### Le modèle"
   ]
  },
  {
   "cell_type": "markdown",
   "metadata": {},
   "source": [
    "#### Mise en place des couches"
   ]
  },
  {
   "cell_type": "code",
   "execution_count": 17,
   "metadata": {},
   "outputs": [],
   "source": [
    "model = Sequential([\n",
    "    Flatten(input_shape=(28, 28)),\n",
    "    Dense(128, activation=tf.nn.relu),\n",
    "    Dense(10, activation=tf.nn.softmax)\n",
    "])"
   ]
  },
  {
   "cell_type": "markdown",
   "metadata": {},
   "source": [
    "- La 1ère couche (Flatten) permet de transformer l'image 2D d'entrée (28x28) en vecteur 1D de 28x28 = 784 pixels.\n",
    "- Ensuite, les 2 autres couches sont des couches denses.\n",
    "    - La 1ère contient 128 neuronnes\n",
    "    - La 2ème retourne un tableau de 10 scores, qui indique la probabilité pour chaque score que l'image appartienne à une classe."
   ]
  },
  {
   "cell_type": "markdown",
   "metadata": {},
   "source": [
    "#### Compilation du modèle"
   ]
  },
  {
   "cell_type": "markdown",
   "metadata": {},
   "source": [
    "Avant d'entrainer le modèle, il faut ajouter certains paramètres.\n",
    "- Nous y ajouterons un *Optimizer*, qui permet de mettre à jour le modèle en fonction des données et de la *Loss function*\n",
    "- Ensuite, nous y ajouterons une *Loss function*, qui permet de tester la précision du modèle. Le but est faire tendre cette valeur vers 0.\n",
    "- Enfin, nous y ajouterons un *Metrics*, qui permet de monitorer les phases d'entrainement et de test, en indiquant les images correctement classifiées."
   ]
  },
  {
   "cell_type": "code",
   "execution_count": 18,
   "metadata": {},
   "outputs": [],
   "source": [
    "model.compile(optimizer=tf.train.AdamOptimizer(), \n",
    "              loss='sparse_categorical_crossentropy',\n",
    "              metrics=['accuracy'])"
   ]
  },
  {
   "cell_type": "markdown",
   "metadata": {},
   "source": [
    "#### Entrainement du modèle"
   ]
  },
  {
   "cell_type": "markdown",
   "metadata": {},
   "source": [
    "On donne au modèle les données d'entrainement, ainsi que leurs labels. Il apprendra ensuite à associer correctement les images et leurs labels, pour ainsi pourvoir faire des prédictions sur les données de test.\n",
    "Le nombre d'epochs correspond au nombre d'itérations que l'on souhaite réaliser, plus le nombre est grand, plus le modèle réussi à minimiser la Loss function. \n"
   ]
  },
  {
   "cell_type": "code",
   "execution_count": 19,
   "metadata": {
    "scrolled": true
   },
   "outputs": [
    {
     "name": "stdout",
     "output_type": "stream",
     "text": [
      "Epoch 1/100\n",
      "60000/60000 [==============================] - 3s 47us/step - loss: 0.4998 - acc: 0.8231\n",
      "Epoch 2/100\n",
      "60000/60000 [==============================] - 3s 46us/step - loss: 0.3796 - acc: 0.8632\n",
      "Epoch 3/100\n",
      "60000/60000 [==============================] - 3s 51us/step - loss: 0.3413 - acc: 0.8760\n",
      "Epoch 4/100\n",
      "60000/60000 [==============================] - 3s 43us/step - loss: 0.3157 - acc: 0.8844\n",
      "Epoch 5/100\n",
      "60000/60000 [==============================] - 3s 45us/step - loss: 0.2974 - acc: 0.8907\n",
      "Epoch 6/100\n",
      "60000/60000 [==============================] - 3s 43us/step - loss: 0.2842 - acc: 0.8958\n",
      "Epoch 7/100\n",
      "60000/60000 [==============================] - 3s 43us/step - loss: 0.2734 - acc: 0.8989\n",
      "Epoch 8/100\n",
      "60000/60000 [==============================] - 3s 44us/step - loss: 0.2616 - acc: 0.9036\n",
      "Epoch 9/100\n",
      "60000/60000 [==============================] - 3s 43us/step - loss: 0.2526 - acc: 0.9054\n",
      "Epoch 10/100\n",
      "60000/60000 [==============================] - 3s 47us/step - loss: 0.2437 - acc: 0.9086\n",
      "Epoch 11/100\n",
      "60000/60000 [==============================] - 3s 43us/step - loss: 0.2337 - acc: 0.9131\n",
      "Epoch 12/100\n",
      "60000/60000 [==============================] - 3s 44us/step - loss: 0.2294 - acc: 0.9137\n",
      "Epoch 13/100\n",
      "60000/60000 [==============================] - 3s 43us/step - loss: 0.2206 - acc: 0.9166\n",
      "Epoch 14/100\n",
      "60000/60000 [==============================] - 3s 43us/step - loss: 0.2136 - acc: 0.9204\n",
      "Epoch 15/100\n",
      "60000/60000 [==============================] - 3s 43us/step - loss: 0.2072 - acc: 0.9219\n",
      "Epoch 16/100\n",
      "60000/60000 [==============================] - 3s 47us/step - loss: 0.2007 - acc: 0.9244\n",
      "Epoch 17/100\n",
      "60000/60000 [==============================] - 3s 43us/step - loss: 0.1959 - acc: 0.9265\n",
      "Epoch 18/100\n",
      "60000/60000 [==============================] - 3s 43us/step - loss: 0.1910 - acc: 0.9274\n",
      "Epoch 19/100\n",
      "60000/60000 [==============================] - 3s 44us/step - loss: 0.1860 - acc: 0.9307\n",
      "Epoch 20/100\n",
      "60000/60000 [==============================] - 3s 44us/step - loss: 0.1812 - acc: 0.9313\n",
      "Epoch 21/100\n",
      "60000/60000 [==============================] - 3s 44us/step - loss: 0.1779 - acc: 0.9331\n",
      "Epoch 22/100\n",
      "60000/60000 [==============================] - 3s 43us/step - loss: 0.1737 - acc: 0.9355\n",
      "Epoch 23/100\n",
      "60000/60000 [==============================] - 3s 49us/step - loss: 0.1682 - acc: 0.9366: 0s - loss: \n",
      "Epoch 24/100\n",
      "60000/60000 [==============================] - 3s 53us/step - loss: 0.1636 - acc: 0.9386\n",
      "Epoch 25/100\n",
      "60000/60000 [==============================] - 3s 48us/step - loss: 0.1613 - acc: 0.9381\n",
      "Epoch 26/100\n",
      "60000/60000 [==============================] - 3s 43us/step - loss: 0.1562 - acc: 0.9412\n",
      "Epoch 27/100\n",
      "60000/60000 [==============================] - 3s 43us/step - loss: 0.1537 - acc: 0.9423\n",
      "Epoch 28/100\n",
      "60000/60000 [==============================] - 3s 46us/step - loss: 0.1501 - acc: 0.9439: 0s - loss: 0.14\n",
      "Epoch 29/100\n",
      "60000/60000 [==============================] - 3s 42us/step - loss: 0.1486 - acc: 0.9442\n",
      "Epoch 30/100\n",
      "60000/60000 [==============================] - 3s 43us/step - loss: 0.1440 - acc: 0.9461\n",
      "Epoch 31/100\n",
      "60000/60000 [==============================] - 3s 45us/step - loss: 0.1431 - acc: 0.9469\n",
      "Epoch 32/100\n",
      "60000/60000 [==============================] - 3s 45us/step - loss: 0.1390 - acc: 0.9477: 1s - loss\n",
      "Epoch 33/100\n",
      "60000/60000 [==============================] - 3s 43us/step - loss: 0.1358 - acc: 0.9495\n",
      "Epoch 34/100\n",
      "60000/60000 [==============================] - 3s 44us/step - loss: 0.1330 - acc: 0.9497\n",
      "Epoch 35/100\n",
      "60000/60000 [==============================] - 3s 46us/step - loss: 0.1322 - acc: 0.9502: 1s -\n",
      "Epoch 36/100\n",
      "60000/60000 [==============================] - 3s 43us/step - loss: 0.1289 - acc: 0.9518\n",
      "Epoch 37/100\n",
      "60000/60000 [==============================] - 3s 42us/step - loss: 0.1258 - acc: 0.9526\n",
      "Epoch 38/100\n",
      "60000/60000 [==============================] - 3s 42us/step - loss: 0.1233 - acc: 0.9545\n",
      "Epoch 39/100\n",
      "60000/60000 [==============================] - 3s 43us/step - loss: 0.1201 - acc: 0.9547\n",
      "Epoch 40/100\n",
      "60000/60000 [==============================] - 3s 43us/step - loss: 0.1205 - acc: 0.9560\n",
      "Epoch 41/100\n",
      "60000/60000 [==============================] - 3s 45us/step - loss: 0.1167 - acc: 0.9558\n",
      "Epoch 42/100\n",
      "60000/60000 [==============================] - 3s 47us/step - loss: 0.1151 - acc: 0.9571: 0s - loss: 0.1144 - \n",
      "Epoch 43/100\n",
      "60000/60000 [==============================] - 3s 43us/step - loss: 0.1161 - acc: 0.9569\n",
      "Epoch 44/100\n",
      "60000/60000 [==============================] - 3s 43us/step - loss: 0.1110 - acc: 0.9588\n",
      "Epoch 45/100\n",
      "60000/60000 [==============================] - 3s 43us/step - loss: 0.1092 - acc: 0.9590\n",
      "Epoch 46/100\n",
      "60000/60000 [==============================] - 3s 52us/step - loss: 0.1068 - acc: 0.9608\n",
      "Epoch 47/100\n",
      "60000/60000 [==============================] - 3s 46us/step - loss: 0.1057 - acc: 0.9611\n",
      "Epoch 48/100\n",
      "60000/60000 [==============================] - 3s 45us/step - loss: 0.1031 - acc: 0.9615\n",
      "Epoch 49/100\n",
      "60000/60000 [==============================] - 2s 40us/step - loss: 0.1025 - acc: 0.9618\n",
      "Epoch 50/100\n",
      "60000/60000 [==============================] - 2s 40us/step - loss: 0.0984 - acc: 0.9629\n",
      "Epoch 51/100\n",
      "60000/60000 [==============================] - 2s 40us/step - loss: 0.0979 - acc: 0.9636\n",
      "Epoch 52/100\n",
      "60000/60000 [==============================] - 2s 40us/step - loss: 0.0977 - acc: 0.9632\n",
      "Epoch 53/100\n",
      "60000/60000 [==============================] - 2s 40us/step - loss: 0.0952 - acc: 0.9649: 0s - loss: \n",
      "Epoch 54/100\n",
      "60000/60000 [==============================] - 2s 41us/step - loss: 0.0927 - acc: 0.9654\n",
      "Epoch 55/100\n",
      "60000/60000 [==============================] - 3s 43us/step - loss: 0.0947 - acc: 0.9657\n",
      "Epoch 56/100\n",
      "60000/60000 [==============================] - 2s 41us/step - loss: 0.0912 - acc: 0.9667\n",
      "Epoch 57/100\n",
      "60000/60000 [==============================] - 2s 40us/step - loss: 0.0900 - acc: 0.9659\n",
      "Epoch 58/100\n",
      "60000/60000 [==============================] - 2s 40us/step - loss: 0.0886 - acc: 0.9672\n",
      "Epoch 59/100\n",
      "60000/60000 [==============================] - 3s 43us/step - loss: 0.0867 - acc: 0.9677\n",
      "Epoch 60/100\n",
      "60000/60000 [==============================] - 2s 41us/step - loss: 0.0875 - acc: 0.9662\n",
      "Epoch 61/100\n",
      "60000/60000 [==============================] - 2s 40us/step - loss: 0.0840 - acc: 0.9687\n",
      "Epoch 62/100\n",
      "60000/60000 [==============================] - 2s 40us/step - loss: 0.0833 - acc: 0.9695\n",
      "Epoch 63/100\n",
      "60000/60000 [==============================] - 2s 40us/step - loss: 0.0832 - acc: 0.9696\n",
      "Epoch 64/100\n",
      "60000/60000 [==============================] - 2s 39us/step - loss: 0.0821 - acc: 0.9691\n",
      "Epoch 65/100\n",
      "60000/60000 [==============================] - 2s 40us/step - loss: 0.0807 - acc: 0.9704\n",
      "Epoch 66/100\n",
      "60000/60000 [==============================] - 2s 40us/step - loss: 0.0798 - acc: 0.9698\n",
      "Epoch 67/100\n",
      "60000/60000 [==============================] - 2s 40us/step - loss: 0.0803 - acc: 0.9705\n",
      "Epoch 68/100\n",
      "60000/60000 [==============================] - 3s 42us/step - loss: 0.0768 - acc: 0.9710: 0s - loss: 0.07\n",
      "Epoch 69/100\n",
      "60000/60000 [==============================] - 2s 39us/step - loss: 0.0743 - acc: 0.9719\n",
      "Epoch 70/100\n",
      "60000/60000 [==============================] - 2s 39us/step - loss: 0.0777 - acc: 0.9714\n",
      "Epoch 71/100\n",
      "60000/60000 [==============================] - 2s 40us/step - loss: 0.0739 - acc: 0.9723\n",
      "Epoch 72/100\n",
      "60000/60000 [==============================] - 3s 43us/step - loss: 0.0758 - acc: 0.9718\n",
      "Epoch 73/100\n",
      "60000/60000 [==============================] - 2s 40us/step - loss: 0.0718 - acc: 0.9731\n",
      "Epoch 74/100\n",
      "60000/60000 [==============================] - 2s 40us/step - loss: 0.0707 - acc: 0.9737\n",
      "Epoch 75/100\n",
      "60000/60000 [==============================] - 2s 40us/step - loss: 0.0679 - acc: 0.9753\n",
      "Epoch 76/100\n",
      "60000/60000 [==============================] - 2s 40us/step - loss: 0.0705 - acc: 0.9730\n",
      "Epoch 77/100\n",
      "60000/60000 [==============================] - 2s 40us/step - loss: 0.0679 - acc: 0.9747\n",
      "Epoch 78/100\n",
      "60000/60000 [==============================] - 3s 43us/step - loss: 0.0689 - acc: 0.9744\n",
      "Epoch 79/100\n",
      "60000/60000 [==============================] - 2s 40us/step - loss: 0.0681 - acc: 0.9750\n",
      "Epoch 80/100\n",
      "60000/60000 [==============================] - 2s 40us/step - loss: 0.0652 - acc: 0.9756\n",
      "Epoch 81/100\n",
      "60000/60000 [==============================] - 2s 40us/step - loss: 0.0661 - acc: 0.9747\n",
      "Epoch 82/100\n",
      "60000/60000 [==============================] - 2s 40us/step - loss: 0.0643 - acc: 0.9763\n",
      "Epoch 83/100\n",
      "60000/60000 [==============================] - 2s 40us/step - loss: 0.0674 - acc: 0.9750\n",
      "Epoch 84/100\n",
      "60000/60000 [==============================] - 2s 40us/step - loss: 0.0625 - acc: 0.9768\n",
      "Epoch 85/100\n",
      "60000/60000 [==============================] - 2s 40us/step - loss: 0.0626 - acc: 0.9768\n",
      "Epoch 86/100\n",
      "60000/60000 [==============================] - 2s 40us/step - loss: 0.0628 - acc: 0.9762\n",
      "Epoch 87/100\n",
      "60000/60000 [==============================] - 2s 40us/step - loss: 0.0630 - acc: 0.9772\n",
      "Epoch 88/100\n",
      "60000/60000 [==============================] - 2s 40us/step - loss: 0.0620 - acc: 0.9767\n",
      "Epoch 89/100\n",
      "60000/60000 [==============================] - 2s 40us/step - loss: 0.0590 - acc: 0.9782\n",
      "Epoch 90/100\n",
      "60000/60000 [==============================] - 2s 40us/step - loss: 0.0600 - acc: 0.9774\n",
      "Epoch 91/100\n",
      "60000/60000 [==============================] - 2s 40us/step - loss: 0.0601 - acc: 0.9780\n",
      "Epoch 92/100\n",
      "60000/60000 [==============================] - 2s 40us/step - loss: 0.0575 - acc: 0.9782\n",
      "Epoch 93/100\n",
      "60000/60000 [==============================] - 2s 40us/step - loss: 0.0570 - acc: 0.9784\n",
      "Epoch 94/100\n",
      "60000/60000 [==============================] - 2s 40us/step - loss: 0.0580 - acc: 0.9777\n",
      "Epoch 95/100\n",
      "60000/60000 [==============================] - 3s 43us/step - loss: 0.0536 - acc: 0.9800\n",
      "Epoch 96/100\n",
      "60000/60000 [==============================] - 2s 40us/step - loss: 0.0573 - acc: 0.9787\n",
      "Epoch 97/100\n",
      "60000/60000 [==============================] - 2s 40us/step - loss: 0.0558 - acc: 0.9792\n",
      "Epoch 98/100\n",
      "60000/60000 [==============================] - 2s 40us/step - loss: 0.0535 - acc: 0.9800\n",
      "Epoch 99/100\n",
      "60000/60000 [==============================] - 3s 47us/step - loss: 0.0562 - acc: 0.9790\n",
      "Epoch 100/100\n",
      "60000/60000 [==============================] - 3s 49us/step - loss: 0.0503 - acc: 0.9813\n"
     ]
    },
    {
     "data": {
      "text/plain": [
       "<tensorflow.python.keras.callbacks.History at 0xb47c32dd8>"
      ]
     },
     "execution_count": 19,
     "metadata": {},
     "output_type": "execute_result"
    }
   ],
   "source": [
    "model.fit(x_train, y_train, epochs=100)"
   ]
  },
  {
   "cell_type": "markdown",
   "metadata": {},
   "source": [
    "- 10 epochs donnent une précision de 91%.\n",
    "- 100 epochs donnent une précision de 98.1%"
   ]
  },
  {
   "cell_type": "markdown",
   "metadata": {},
   "source": [
    "#### Évaluation du modèle"
   ]
  },
  {
   "cell_type": "markdown",
   "metadata": {},
   "source": [
    "Voyons maintenant comment se comporte le modèle avec les données de test."
   ]
  },
  {
   "cell_type": "code",
   "execution_count": 20,
   "metadata": {},
   "outputs": [
    {
     "name": "stdout",
     "output_type": "stream",
     "text": [
      "10000/10000 [==============================] - 0s 26us/step\n",
      "Précision sur données de test :  0.8826\n"
     ]
    }
   ],
   "source": [
    "test_loss, test_acc = model.evaluate(x_test, y_test)\n",
    "print('Précision sur données de test : ', test_acc)"
   ]
  },
  {
   "cell_type": "markdown",
   "metadata": {},
   "source": [
    "On voit que le modèle perd 10% de précision. Cette différence entre précision d'entrainement et de test est un exemple de *sur-apprentissage*.\n",
    "Le sur-apprentissage est un phénomène en statistique, où le modèle s'adapte à un ensemble **particulier** de données, ainsi, lorsqu'on le teste sur d'autres données, celui-ci ne se généralise pas de la manière attendue, et perd en précision."
   ]
  },
  {
   "cell_type": "markdown",
   "metadata": {},
   "source": [
    "### Prédictions sur des images"
   ]
  },
  {
   "cell_type": "markdown",
   "metadata": {},
   "source": [
    "Gardons ce modèle et testons de prédire les classes que quelques images."
   ]
  },
  {
   "cell_type": "code",
   "execution_count": 21,
   "metadata": {},
   "outputs": [],
   "source": [
    "predictions = model.predict(x_test)"
   ]
  },
  {
   "cell_type": "markdown",
   "metadata": {},
   "source": [
    "L'objet *predictions* contient un tableau de scores pour chaque image de test."
   ]
  },
  {
   "cell_type": "code",
   "execution_count": 22,
   "metadata": {},
   "outputs": [
    {
     "data": {
      "text/plain": [
       "array([1.4653951e-32, 1.5526032e-24, 7.8164375e-37, 8.3219958e-34,\n",
       "       2.9473987e-34, 1.0737776e-10, 0.0000000e+00, 3.8374485e-13,\n",
       "       5.7973729e-29, 1.0000000e+00], dtype=float32)"
      ]
     },
     "execution_count": 22,
     "metadata": {},
     "output_type": "execute_result"
    }
   ],
   "source": [
    "predictions[0]"
   ]
  },
  {
   "cell_type": "markdown",
   "metadata": {},
   "source": [
    "Par exemple, la 1ère image de test appartient à la classe 9 (car c'est la plus proche de 1).\n",
    "Affichons ces résultats correctement..."
   ]
  },
  {
   "cell_type": "code",
   "execution_count": 23,
   "metadata": {},
   "outputs": [],
   "source": [
    "def plot_image(i, predictions_array, true_label, img):\n",
    "  predictions_array, true_label, img = predictions_array[i], true_label[i], img[i]\n",
    "  plt.grid(False)\n",
    "  plt.xticks([])\n",
    "  plt.yticks([])\n",
    "  \n",
    "  plt.imshow(img, cmap=plt.cm.binary)\n",
    "\n",
    "  predicted_label = np.argmax(predictions_array)\n",
    "  if predicted_label == true_label:\n",
    "    color = 'blue'\n",
    "  else:\n",
    "    color = 'red'\n",
    "  \n",
    "  plt.xlabel(\"{} {:2.0f}% ({})\".format(class_names[predicted_label],\n",
    "                                100*np.max(predictions_array),\n",
    "                                class_names[true_label]),\n",
    "                                color=color)\n",
    "\n",
    "\n",
    "def plot_value_array(i, predictions_array, true_label):\n",
    "  predictions_array, true_label = predictions_array[i], true_label[i]\n",
    "  plt.grid(False)\n",
    "  plt.xticks([])\n",
    "  plt.yticks([])\n",
    "  thisplot = plt.bar(range(10), predictions_array, color=\"#777777\")\n",
    "  plt.ylim([0, 1]) \n",
    "  predicted_label = np.argmax(predictions_array)\n",
    " \n",
    "  thisplot[predicted_label].set_color('red')\n",
    "  thisplot[true_label].set_color('blue')"
   ]
  },
  {
   "cell_type": "code",
   "execution_count": 24,
   "metadata": {
    "scrolled": true
   },
   "outputs": [
    {
     "data": {
      "image/png": "[encoded data removed]",
      "text/plain": [
       "<Figure size 432x216 with 2 Axes>"
      ]
     },
     "metadata": {},
     "output_type": "display_data"
    }
   ],
   "source": [
    "i = 0\n",
    "plt.figure(figsize=(6,3))\n",
    "plt.subplot(1,2,1)\n",
    "plot_image(i, predictions, y_test, x_test)\n",
    "plt.subplot(1,2,2)\n",
    "plot_value_array(i, predictions,  y_test)"
   ]
  },
  {
   "cell_type": "markdown",
   "metadata": {},
   "source": [
    "Ici, le label est bien prédit."
   ]
  },
  {
   "cell_type": "code",
   "execution_count": 37,
   "metadata": {},
   "outputs": [
    {
     "data": {
      "image/png": "[encoded data removed]",
      "text/plain": [
       "<Figure size 432x216 with 2 Axes>"
      ]
     },
     "metadata": {},
     "output_type": "display_data"
    }
   ],
   "source": [
    "i = 12\n",
    "plt.figure(figsize=(6,3))\n",
    "plt.subplot(1,2,1)\n",
    "plot_image(i, predictions, y_test, x_test)\n",
    "plt.subplot(1,2,2)\n",
    "plot_value_array(i, predictions,  y_test)"
   ]
  },
  {
   "cell_type": "markdown",
   "metadata": {},
   "source": [
    "Pour cette image, le modèle ne trouve pas le bon label, et confond une sandale et une basket.\n",
    "\n",
    "### Conclusion\n",
    "\n",
    "Le réseau de neuronnes perd près de 10% de précision entre les données d'apprentissage et les données de test. Cela est dû à du surapprentissage. On dit que le réseau généralise mal. Afin d'éviter ce problème, on aurait pu optimiser les nombres de neuronnes et de couches."
   ]
  },
  {
   "cell_type": "code",
   "execution_count": null,
   "metadata": {},
   "outputs": [],
   "source": []
  }
 ],
 "metadata": {
  "kernelspec": {
   "display_name": "Python 3",
   "language": "python",
   "name": "python3"
  },
  "language_info": {
   "codemirror_mode": {
    "name": "ipython",
    "version": 3
   },
   "file_extension": ".py",
   "mimetype": "text/x-python",
   "name": "python",
   "nbconvert_exporter": "python",
   "pygments_lexer": "ipython3",
   "version": "3.6.5"
  }
 },
 "nbformat": 4,
 "nbformat_minor": 2
}
