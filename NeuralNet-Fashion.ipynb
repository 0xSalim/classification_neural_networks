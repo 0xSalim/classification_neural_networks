{
 "cells": [
  {
   "cell_type": "markdown",
   "metadata": {},
   "source": [
    "# Projet Python\n",
    "## Classification d'images avec réseaux de neurones\n",
    "Wael Osmani - Salim Talout Zitan"
   ]
  },
  {
   "cell_type": "markdown",
   "metadata": {},
   "source": [
    "### Introduction\n",
    "Dans le cadre du *PAO Python for nummies*, nous avons réalisé un projet qui permet de classifier des images avec un réseaux de neurones.\n",
    "Ces images sont des pièces vêtements, comportant en tout *10 classes différentes*.\n",
    "Nous allons tout d'abord importer les données d'entraînement et de test. Ensuite nous allons définir un réseau de neurones grâce à la librairie *Keras*. Puis nous allons compiler notre modèle pour ensuite l'entraîner. Enfin nous allons évaluer la précision de notre réseau sur les données de test, puis faire de la prédiction de classes sur les données test."
   ]
  },
  {
   "cell_type": "markdown",
   "metadata": {},
   "source": [
    "### Import des librairies :"
   ]
  },
  {
   "cell_type": "code",
   "execution_count": 1,
   "metadata": {},
   "outputs": [],
   "source": [
    "import tensorflow as tf\n",
    "from tensorflow import keras\n",
    "from tensorflow.keras import Sequential\n",
    "from tensorflow.keras.layers import Flatten, Dense\n",
    "import numpy as np\n",
    "import matplotlib.pyplot as plt"
   ]
  },
  {
   "cell_type": "markdown",
   "metadata": {},
   "source": [
    "### Import des données"
   ]
  },
  {
   "cell_type": "code",
   "execution_count": 2,
   "metadata": {},
   "outputs": [
    {
     "name": "stdout",
     "output_type": "stream",
     "text": [
      "Downloading data from http://fashion-mnist.s3-website.eu-central-1.amazonaws.com/train-labels-idx1-ubyte.gz\n",
      "32768/29515 [=================================] - 0s 1us/step\n"
     ]
    },
    {
     "name": "stderr",
     "output_type": "stream",
     "text": [
      "Using TensorFlow backend.\n"
     ]
    },
    {
     "name": "stdout",
     "output_type": "stream",
     "text": [
      "Downloading data from http://fashion-mnist.s3-website.eu-central-1.amazonaws.com/train-images-idx3-ubyte.gz\n",
      "26427392/26421880 [==============================] - 2s 0us/step\n",
      "Downloading data from http://fashion-mnist.s3-website.eu-central-1.amazonaws.com/t10k-labels-idx1-ubyte.gz\n",
      "8192/5148 [===============================================] - 0s 0us/step\n",
      "Downloading data from http://fashion-mnist.s3-website.eu-central-1.amazonaws.com/t10k-images-idx3-ubyte.gz\n",
      "4423680/4422102 [==============================] - 0s 0us/step\n"
     ]
    }
   ],
   "source": [
    "from keras.datasets import fashion_mnist\n",
    "(x_train, y_train), (x_test, y_test) = fashion_mnist.load_data()"
   ]
  },
  {
   "cell_type": "markdown",
   "metadata": {},
   "source": [
    "Les objets **x_train**, **y_train**, **x_test** et **y_test** sont des ndarrays."
   ]
  },
  {
   "cell_type": "markdown",
   "metadata": {},
   "source": [
    "### Informations sur les données"
   ]
  },
  {
   "cell_type": "markdown",
   "metadata": {},
   "source": [
    "#### Données d'entrainement"
   ]
  },
  {
   "cell_type": "code",
   "execution_count": 3,
   "metadata": {},
   "outputs": [
    {
     "data": {
      "text/plain": [
       "(60000, 28, 28)"
      ]
     },
     "execution_count": 3,
     "metadata": {},
     "output_type": "execute_result"
    }
   ],
   "source": [
    "x_train.shape"
   ]
  },
  {
   "cell_type": "markdown",
   "metadata": {},
   "source": [
    "Nous avons donc 60 000 images d'entrainement de 28x28 pixels."
   ]
  },
  {
   "cell_type": "code",
   "execution_count": 4,
   "metadata": {},
   "outputs": [
    {
     "data": {
      "text/plain": [
       "60000"
      ]
     },
     "execution_count": 4,
     "metadata": {},
     "output_type": "execute_result"
    }
   ],
   "source": [
    "len(y_train)"
   ]
  },
  {
   "cell_type": "markdown",
   "metadata": {},
   "source": [
    "Nous avons aussi 60 000 labels associés aux images d'entrainement."
   ]
  },
  {
   "cell_type": "code",
   "execution_count": 5,
   "metadata": {},
   "outputs": [
    {
     "data": {
      "text/plain": [
       "array([0, 1, 2, 3, 4, 5, 6, 7, 8, 9], dtype=uint8)"
      ]
     },
     "execution_count": 5,
     "metadata": {},
     "output_type": "execute_result"
    }
   ],
   "source": [
    "np.unique(y_train)"
   ]
  },
  {
   "cell_type": "markdown",
   "metadata": {},
   "source": [
    "Les labels sont des chiffres entiers entre 0 et 9. Ajoutons donc les noms des labels."
   ]
  },
  {
   "cell_type": "code",
   "execution_count": 6,
   "metadata": {},
   "outputs": [],
   "source": [
    "class_names = ['T-shirt/top', 'Trouser', 'Pullover', 'Dress', 'Coat', \n",
    "               'Sandal', 'Shirt', 'Sneaker', 'Bag', 'Ankle boot']"
   ]
  },
  {
   "cell_type": "markdown",
   "metadata": {},
   "source": [
    "#### Données de test"
   ]
  },
  {
   "cell_type": "code",
   "execution_count": 7,
   "metadata": {},
   "outputs": [
    {
     "data": {
      "text/plain": [
       "(10000, 28, 28)"
      ]
     },
     "execution_count": 7,
     "metadata": {},
     "output_type": "execute_result"
    }
   ],
   "source": [
    "x_test.shape"
   ]
  },
  {
   "cell_type": "markdown",
   "metadata": {},
   "source": [
    "Nous avons donc 10 000 images de test de 28x28 pixels."
   ]
  },
  {
   "cell_type": "code",
   "execution_count": 8,
   "metadata": {},
   "outputs": [
    {
     "data": {
      "text/plain": [
       "10000"
      ]
     },
     "execution_count": 8,
     "metadata": {},
     "output_type": "execute_result"
    }
   ],
   "source": [
    "len(y_test)"
   ]
  },
  {
   "cell_type": "markdown",
   "metadata": {},
   "source": [
    "De la même façon, nous avons 10 000 labels associés aux images de test."
   ]
  },
  {
   "cell_type": "markdown",
   "metadata": {},
   "source": [
    "### Prétraitement des données"
   ]
  },
  {
   "cell_type": "markdown",
   "metadata": {},
   "source": [
    "Avant d'entrainer le modèle, voyons à quoi ressemblent nos données."
   ]
  },
  {
   "cell_type": "code",
   "execution_count": 9,
   "metadata": {},
   "outputs": [
    {
     "data": {
      "image/png": "[encoded data removed]",
      "text/plain": [
       "<Figure size 432x288 with 2 Axes>"
      ]
     },
     "metadata": {
      "needs_background": "light"
     },
     "output_type": "display_data"
    }
   ],
   "source": [
    "plt.figure()\n",
    "plt.imshow(x_train[69], cmap='gray')\n",
    "plt.colorbar()\n",
    "plt.grid(False)"
   ]
  },
  {
   "cell_type": "markdown",
   "metadata": {},
   "source": [
    "Les valeurs des pixels vont de 0 à 255. Passons ces valeurs à une échelle allant de 0 à 1."
   ]
  },
  {
   "cell_type": "code",
   "execution_count": 10,
   "metadata": {},
   "outputs": [],
   "source": [
    "x_train = x_train/255\n",
    "x_test = x_test/255"
   ]
  },
  {
   "cell_type": "code",
   "execution_count": 11,
   "metadata": {},
   "outputs": [
    {
     "data": {
      "image/png": "[encoded data removed]",
      "text/plain": [
       "<Figure size 432x288 with 2 Axes>"
      ]
     },
     "metadata": {
      "needs_background": "light"
     },
     "output_type": "display_data"
    }
   ],
   "source": [
    "plt.figure()\n",
    "plt.imshow(x_train[69], cmap='gray')\n",
    "plt.colorbar()\n",
    "plt.grid(False)"
   ]
  },
  {
   "cell_type": "markdown",
   "metadata": {},
   "source": [
    "De cette manière, les pixels des données d'entrainement et de test vont de 0 à 1."
   ]
  },
  {
   "cell_type": "markdown",
   "metadata": {},
   "source": [
    "### Affichage d'un sample de données"
   ]
  },
  {
   "cell_type": "markdown",
   "metadata": {},
   "source": [
    "Affichons les différentes classes présentes dans cette base de donnée."
   ]
  },
  {
   "cell_type": "code",
   "execution_count": 12,
   "metadata": {},
   "outputs": [
    {
     "data": {
      "image/png": "[encoded data removed]",
      "text/plain": [
       "<Figure size 648x648 with 25 Axes>"
      ]
     },
     "metadata": {},
     "output_type": "display_data"
    }
   ],
   "source": [
    "plt.figure(figsize=(9,9))\n",
    "for i in range(25):\n",
    "    plt.subplot(5,5,i+1)\n",
    "    plt.xticks([])\n",
    "    plt.yticks([])\n",
    "    plt.grid(False)\n",
    "    plt.imshow(x_train[i], cmap=plt.cm.binary)\n",
    "    plt.xlabel(class_names[y_train[i]])"
   ]
  },
  {
   "cell_type": "markdown",
   "metadata": {},
   "source": [
    "### Le modèle"
   ]
  },
  {
   "cell_type": "markdown",
   "metadata": {},
   "source": [
    "#### Mise en place des couches"
   ]
  },
  {
   "cell_type": "code",
   "execution_count": 13,
   "metadata": {},
   "outputs": [],
   "source": [
    "model = Sequential([\n",
    "    Flatten(input_shape=(28, 28)),\n",
    "    Dense(128, activation=tf.nn.relu),\n",
    "    Dense(10, activation=tf.nn.softmax)\n",
    "])"
   ]
  },
  {
   "cell_type": "markdown",
   "metadata": {},
   "source": [
    "- La 1ère couche (Flatten) permet de transformer l'image 2D d'entrée (28x28) en vecteur 1D de 28x28 = 784 pixels.\n",
    "- Ensuite, les 2 autres couches sont des couches denses.\n",
    "    - La 1ère contient 128 neuronnes\n",
    "    - La 2ème retourne un tableau de 10 scores, qui indique la probabilité pour chaque score que l'image appartienne à une classe."
   ]
  },
  {
   "cell_type": "markdown",
   "metadata": {},
   "source": [
    "#### Compilation du modèle"
   ]
  },
  {
   "cell_type": "markdown",
   "metadata": {},
   "source": [
    "Avant d'entrainer le modèle, il faut ajouter certains paramètres.\n",
    "- Nous y ajouterons un *Optimizer*, qui permet de mettre à jour le modèle en fonction des données et de la *Loss function*\n",
    "- Ensuite, nous y ajouterons une *Loss function*, qui permet de tester la précision du modèle. Le but est faire tendre cette valeur vers 0.\n",
    "- Enfin, nous y ajouterons un *Metrics*, qui permet de monitorer les phases d'entrainement et de test, en indiquant les images correctement classifiées."
   ]
  },
  {
   "cell_type": "code",
   "execution_count": 14,
   "metadata": {},
   "outputs": [],
   "source": [
    "model.compile(optimizer=tf.train.AdamOptimizer(), \n",
    "              loss='sparse_categorical_crossentropy',\n",
    "              metrics=['accuracy'])"
   ]
  },
  {
   "cell_type": "markdown",
   "metadata": {},
   "source": [
    "#### Entrainement du modèle"
   ]
  },
  {
   "cell_type": "markdown",
   "metadata": {},
   "source": [
    "On donne au modèle les données d'entrainement, ainsi que leurs labels. Il apprendra ensuite à associer correctement les images et leurs labels, pour ainsi pourvoir faire des prédictions sur les données de test.\n",
    "Le nombre d'epochs correspond au nombre d'itérations que l'on souhaite réaliser, plus le nombre est grand, plus le modèle réussi à minimiser la Loss function. \n"
   ]
  },
  {
   "cell_type": "code",
   "execution_count": 15,
   "metadata": {},
   "outputs": [
    {
     "name": "stdout",
     "output_type": "stream",
     "text": [
      "Epoch 1/100\n",
      "60000/60000 [==============================] - 4s 64us/step - loss: 0.4993 - acc: 0.8250\n",
      "Epoch 2/100\n",
      "60000/60000 [==============================] - 4s 59us/step - loss: 0.3749 - acc: 0.8656\n",
      "Epoch 3/100\n",
      "60000/60000 [==============================] - 4s 60us/step - loss: 0.3384 - acc: 0.8763\n",
      "Epoch 4/100\n",
      "60000/60000 [==============================] - 4s 69us/step - loss: 0.3128 - acc: 0.8838\n",
      "Epoch 5/100\n",
      "60000/60000 [==============================] - 4s 59us/step - loss: 0.2953 - acc: 0.8920\n",
      "Epoch 6/100\n",
      "60000/60000 [==============================] - 4s 59us/step - loss: 0.2810 - acc: 0.8960\n",
      "Epoch 7/100\n",
      "60000/60000 [==============================] - 4s 68us/step - loss: 0.2672 - acc: 0.9012\n",
      "Epoch 8/100\n",
      "60000/60000 [==============================] - 4s 63us/step - loss: 0.2559 - acc: 0.9052\n",
      "Epoch 9/100\n",
      "60000/60000 [==============================] - 4s 63us/step - loss: 0.2459 - acc: 0.9092\n",
      "Epoch 10/100\n",
      "60000/60000 [==============================] - 4s 63us/step - loss: 0.2379 - acc: 0.9115\n",
      "Epoch 11/100\n",
      "60000/60000 [==============================] - 4s 68us/step - loss: 0.2309 - acc: 0.9127\n",
      "Epoch 12/100\n",
      "60000/60000 [==============================] - 3s 53us/step - loss: 0.2233 - acc: 0.9159\n",
      "Epoch 13/100\n",
      "60000/60000 [==============================] - 4s 61us/step - loss: 0.2135 - acc: 0.9196\n",
      "Epoch 14/100\n",
      "60000/60000 [==============================] - 4s 60us/step - loss: 0.2090 - acc: 0.9224\n",
      "Epoch 15/100\n",
      "60000/60000 [==============================] - 4s 62us/step - loss: 0.2036 - acc: 0.9238\n",
      "Epoch 16/100\n",
      "60000/60000 [==============================] - 3s 48us/step - loss: 0.1988 - acc: 0.9247\n",
      "Epoch 17/100\n",
      "60000/60000 [==============================] - 3s 50us/step - loss: 0.1903 - acc: 0.9290\n",
      "Epoch 18/100\n",
      "60000/60000 [==============================] - 3s 50us/step - loss: 0.1870 - acc: 0.9301\n",
      "Epoch 19/100\n",
      "60000/60000 [==============================] - 5s 77us/step - loss: 0.1829 - acc: 0.9309\n",
      "Epoch 20/100\n",
      "60000/60000 [==============================] - 4s 66us/step - loss: 0.1781 - acc: 0.9322\n",
      "Epoch 21/100\n",
      "60000/60000 [==============================] - 3s 57us/step - loss: 0.1724 - acc: 0.9342\n",
      "Epoch 22/100\n",
      "60000/60000 [==============================] - 3s 56us/step - loss: 0.1703 - acc: 0.9361\n",
      "Epoch 23/100\n",
      "60000/60000 [==============================] - 3s 46us/step - loss: 0.1652 - acc: 0.9375\n",
      "Epoch 24/100\n",
      "60000/60000 [==============================] - 3s 49us/step - loss: 0.1604 - acc: 0.9399\n",
      "Epoch 25/100\n",
      "60000/60000 [==============================] - 3s 51us/step - loss: 0.1575 - acc: 0.9403\n",
      "Epoch 26/100\n",
      "60000/60000 [==============================] - 3s 50us/step - loss: 0.1535 - acc: 0.9420\n",
      "Epoch 27/100\n",
      "60000/60000 [==============================] - 3s 49us/step - loss: 0.1511 - acc: 0.9428\n",
      "Epoch 28/100\n",
      "60000/60000 [==============================] - 4s 62us/step - loss: 0.1460 - acc: 0.9444\n",
      "Epoch 29/100\n",
      "60000/60000 [==============================] - 3s 47us/step - loss: 0.1448 - acc: 0.9458\n",
      "Epoch 30/100\n",
      "60000/60000 [==============================] - 3s 47us/step - loss: 0.1420 - acc: 0.9456\n",
      "Epoch 31/100\n",
      "60000/60000 [==============================] - 3s 58us/step - loss: 0.1372 - acc: 0.9469\n",
      "Epoch 32/100\n",
      "60000/60000 [==============================] - 3s 54us/step - loss: 0.1337 - acc: 0.9497\n",
      "Epoch 33/100\n",
      "60000/60000 [==============================] - 4s 59us/step - loss: 0.1312 - acc: 0.9498\n",
      "Epoch 34/100\n",
      "60000/60000 [==============================] - 3s 51us/step - loss: 0.1293 - acc: 0.9514\n",
      "Epoch 35/100\n",
      "60000/60000 [==============================] - 3s 47us/step - loss: 0.1269 - acc: 0.9527\n",
      "Epoch 36/100\n",
      "60000/60000 [==============================] - 3s 55us/step - loss: 0.1252 - acc: 0.9532\n",
      "Epoch 37/100\n",
      "60000/60000 [==============================] - 3s 51us/step - loss: 0.1239 - acc: 0.9538\n",
      "Epoch 38/100\n",
      "60000/60000 [==============================] - 4s 59us/step - loss: 0.1195 - acc: 0.9546\n",
      "Epoch 39/100\n",
      "60000/60000 [==============================] - 3s 58us/step - loss: 0.1173 - acc: 0.9557\n",
      "Epoch 40/100\n",
      "60000/60000 [==============================] - 4s 72us/step - loss: 0.1165 - acc: 0.9555\n",
      "Epoch 41/100\n",
      "60000/60000 [==============================] - 3s 52us/step - loss: 0.1131 - acc: 0.9575\n",
      "Epoch 42/100\n",
      "60000/60000 [==============================] - 3s 49us/step - loss: 0.1091 - acc: 0.9587\n",
      "Epoch 43/100\n",
      "60000/60000 [==============================] - 4s 59us/step - loss: 0.1124 - acc: 0.9571\n",
      "Epoch 44/100\n",
      "60000/60000 [==============================] - 4s 67us/step - loss: 0.1062 - acc: 0.9594\n",
      "Epoch 45/100\n",
      "60000/60000 [==============================] - 4s 67us/step - loss: 0.1052 - acc: 0.9603\n",
      "Epoch 46/100\n",
      "60000/60000 [==============================] - 4s 62us/step - loss: 0.1065 - acc: 0.9592\n",
      "Epoch 47/100\n",
      "60000/60000 [==============================] - 4s 61us/step - loss: 0.1028 - acc: 0.9605\n",
      "Epoch 48/100\n",
      "60000/60000 [==============================] - 4s 64us/step - loss: 0.1027 - acc: 0.9613\n",
      "Epoch 49/100\n",
      "60000/60000 [==============================] - 4s 61us/step - loss: 0.0987 - acc: 0.9625\n",
      "Epoch 50/100\n",
      "60000/60000 [==============================] - 4s 61us/step - loss: 0.0983 - acc: 0.9636\n",
      "Epoch 51/100\n",
      "60000/60000 [==============================] - 4s 61us/step - loss: 0.0960 - acc: 0.9639\n",
      "Epoch 52/100\n",
      "60000/60000 [==============================] - 4s 60us/step - loss: 0.0936 - acc: 0.9654\n",
      "Epoch 53/100\n",
      "60000/60000 [==============================] - 4s 61us/step - loss: 0.0931 - acc: 0.9650\n",
      "Epoch 54/100\n",
      "60000/60000 [==============================] - 4s 61us/step - loss: 0.0911 - acc: 0.9656\n",
      "Epoch 55/100\n",
      "60000/60000 [==============================] - 4s 60us/step - loss: 0.0903 - acc: 0.9661\n",
      "Epoch 56/100\n",
      "60000/60000 [==============================] - 4s 62us/step - loss: 0.0899 - acc: 0.9671\n",
      "Epoch 57/100\n",
      "60000/60000 [==============================] - 4s 62us/step - loss: 0.0888 - acc: 0.9669\n",
      "Epoch 58/100\n",
      "60000/60000 [==============================] - 4s 61us/step - loss: 0.0884 - acc: 0.9669\n",
      "Epoch 59/100\n",
      "60000/60000 [==============================] - 4s 62us/step - loss: 0.0864 - acc: 0.9673\n",
      "Epoch 60/100\n",
      "60000/60000 [==============================] - 4s 61us/step - loss: 0.0834 - acc: 0.9687\n",
      "Epoch 61/100\n",
      "60000/60000 [==============================] - 4s 60us/step - loss: 0.0857 - acc: 0.9676\n",
      "Epoch 62/100\n",
      "60000/60000 [==============================] - 4s 61us/step - loss: 0.0817 - acc: 0.9689\n",
      "Epoch 63/100\n",
      "60000/60000 [==============================] - 4s 71us/step - loss: 0.0807 - acc: 0.9694\n",
      "Epoch 64/100\n",
      "60000/60000 [==============================] - 4s 66us/step - loss: 0.0791 - acc: 0.9708\n",
      "Epoch 65/100\n",
      "60000/60000 [==============================] - 4s 61us/step - loss: 0.0788 - acc: 0.9699\n",
      "Epoch 66/100\n",
      "60000/60000 [==============================] - 4s 61us/step - loss: 0.0785 - acc: 0.9707\n",
      "Epoch 67/100\n",
      "60000/60000 [==============================] - 4s 61us/step - loss: 0.0740 - acc: 0.9719\n",
      "Epoch 68/100\n",
      "60000/60000 [==============================] - 4s 61us/step - loss: 0.0756 - acc: 0.9721\n",
      "Epoch 69/100\n",
      "60000/60000 [==============================] - 4s 61us/step - loss: 0.0750 - acc: 0.9726\n",
      "Epoch 70/100\n",
      "60000/60000 [==============================] - 4s 62us/step - loss: 0.0758 - acc: 0.9713\n",
      "Epoch 71/100\n",
      "60000/60000 [==============================] - 4s 61us/step - loss: 0.0729 - acc: 0.9728\n",
      "Epoch 72/100\n",
      "60000/60000 [==============================] - 4s 61us/step - loss: 0.0701 - acc: 0.9733\n",
      "Epoch 73/100\n",
      "60000/60000 [==============================] - 4s 62us/step - loss: 0.0724 - acc: 0.9731\n",
      "Epoch 74/100\n",
      "60000/60000 [==============================] - 4s 61us/step - loss: 0.0699 - acc: 0.9738\n",
      "Epoch 75/100\n",
      "60000/60000 [==============================] - 4s 62us/step - loss: 0.0692 - acc: 0.9735\n",
      "Epoch 76/100\n",
      "60000/60000 [==============================] - 4s 61us/step - loss: 0.0675 - acc: 0.9751\n",
      "Epoch 77/100\n",
      "60000/60000 [==============================] - 4s 62us/step - loss: 0.0677 - acc: 0.9748\n",
      "Epoch 78/100\n",
      "60000/60000 [==============================] - 4s 61us/step - loss: 0.0702 - acc: 0.9739\n",
      "Epoch 79/100\n",
      "60000/60000 [==============================] - 4s 62us/step - loss: 0.0641 - acc: 0.9759\n",
      "Epoch 80/100\n",
      "60000/60000 [==============================] - 4s 62us/step - loss: 0.0642 - acc: 0.9759\n",
      "Epoch 81/100\n"
     ]
    },
    {
     "name": "stdout",
     "output_type": "stream",
     "text": [
      "60000/60000 [==============================] - 3s 56us/step - loss: 0.0643 - acc: 0.9758\n",
      "Epoch 82/100\n",
      "60000/60000 [==============================] - 3s 56us/step - loss: 0.0659 - acc: 0.9751\n",
      "Epoch 83/100\n",
      "60000/60000 [==============================] - 3s 56us/step - loss: 0.0646 - acc: 0.9765\n",
      "Epoch 84/100\n",
      "60000/60000 [==============================] - 3s 55us/step - loss: 0.0637 - acc: 0.9761\n",
      "Epoch 85/100\n",
      "60000/60000 [==============================] - 3s 56us/step - loss: 0.0646 - acc: 0.9763\n",
      "Epoch 86/100\n",
      "60000/60000 [==============================] - 3s 56us/step - loss: 0.0614 - acc: 0.9775\n",
      "Epoch 87/100\n",
      "60000/60000 [==============================] - 3s 56us/step - loss: 0.0607 - acc: 0.9773\n",
      "Epoch 88/100\n",
      "60000/60000 [==============================] - 3s 56us/step - loss: 0.0615 - acc: 0.9774\n",
      "Epoch 89/100\n",
      "60000/60000 [==============================] - 3s 56us/step - loss: 0.0607 - acc: 0.9780\n",
      "Epoch 90/100\n",
      "60000/60000 [==============================] - 3s 58us/step - loss: 0.0575 - acc: 0.9782\n",
      "Epoch 91/100\n",
      "60000/60000 [==============================] - 3s 56us/step - loss: 0.0573 - acc: 0.9788\n",
      "Epoch 92/100\n",
      "60000/60000 [==============================] - 3s 56us/step - loss: 0.0550 - acc: 0.9795\n",
      "Epoch 93/100\n",
      "60000/60000 [==============================] - 3s 56us/step - loss: 0.0557 - acc: 0.9790\n",
      "Epoch 94/100\n",
      "60000/60000 [==============================] - 3s 56us/step - loss: 0.0565 - acc: 0.9796\n",
      "Epoch 95/100\n",
      "60000/60000 [==============================] - 3s 56us/step - loss: 0.0548 - acc: 0.9802\n",
      "Epoch 96/100\n",
      "60000/60000 [==============================] - 3s 56us/step - loss: 0.0542 - acc: 0.9805\n",
      "Epoch 97/100\n",
      "60000/60000 [==============================] - 3s 56us/step - loss: 0.0555 - acc: 0.9794\n",
      "Epoch 98/100\n",
      "60000/60000 [==============================] - 3s 56us/step - loss: 0.0535 - acc: 0.9801\n",
      "Epoch 99/100\n",
      "60000/60000 [==============================] - 3s 56us/step - loss: 0.0547 - acc: 0.9802\n",
      "Epoch 100/100\n",
      "60000/60000 [==============================] - 3s 56us/step - loss: 0.0506 - acc: 0.9804\n"
     ]
    },
    {
     "data": {
      "text/plain": [
       "<tensorflow.python.keras.callbacks.History at 0x7f35b08c09b0>"
      ]
     },
     "execution_count": 15,
     "metadata": {},
     "output_type": "execute_result"
    }
   ],
   "source": [
    "model.fit(x_train, y_train, epochs=100)"
   ]
  },
  {
   "cell_type": "markdown",
   "metadata": {},
   "source": [
    "- 10 epochs donnent une précision de 91%.\n",
    "- 100 epochs donnent une précision de 98%"
   ]
  },
  {
   "cell_type": "markdown",
   "metadata": {},
   "source": [
    "#### Évaluation du modèle"
   ]
  },
  {
   "cell_type": "markdown",
   "metadata": {},
   "source": [
    "Voyons maintenant comment se comporte le modèle avec les données de test."
   ]
  },
  {
   "cell_type": "code",
   "execution_count": 16,
   "metadata": {},
   "outputs": [
    {
     "name": "stdout",
     "output_type": "stream",
     "text": [
      "10000/10000 [==============================] - 0s 33us/step\n",
      "Précision sur données de test :  0.8876\n"
     ]
    }
   ],
   "source": [
    "test_loss, test_acc = model.evaluate(x_test, y_test)\n",
    "print('Précision sur données de test : ', test_acc)"
   ]
  },
  {
   "cell_type": "markdown",
   "metadata": {},
   "source": [
    "On voit que le modèle perd 10% de précision. Cette différence entre précision d'entrainement et de test est un exemple de *sur-apprentissage*.\n",
    "Le sur-apprentissage est un phénomène en statistique, où le modèle s'adapte à un ensemble **particulier** de données, ainsi, lorsqu'on le teste sur d'autres données, celui-ci ne se généralise pas de la manière attendue, et perd en précision."
   ]
  },
  {
   "cell_type": "markdown",
   "metadata": {},
   "source": [
    "### Prédictions sur des images"
   ]
  },
  {
   "cell_type": "markdown",
   "metadata": {},
   "source": [
    "Gardons ce modèle et testons de prédire les classes de quelques images."
   ]
  },
  {
   "cell_type": "code",
   "execution_count": 17,
   "metadata": {},
   "outputs": [],
   "source": [
    "predictions = model.predict(x_test)"
   ]
  },
  {
   "cell_type": "markdown",
   "metadata": {},
   "source": [
    "L'objet *predictions* contient un tableau de scores pour chaque image de test."
   ]
  },
  {
   "cell_type": "code",
   "execution_count": 18,
   "metadata": {},
   "outputs": [
    {
     "data": {
      "text/plain": [
       "array([4.9478995e-18, 0.0000000e+00, 1.7241811e-26, 0.0000000e+00,\n",
       "       9.3228124e-29, 6.1665331e-09, 1.7281448e-34, 2.3804911e-13,\n",
       "       1.8125550e-31, 1.0000000e+00], dtype=float32)"
      ]
     },
     "execution_count": 18,
     "metadata": {},
     "output_type": "execute_result"
    }
   ],
   "source": [
    "predictions[0]"
   ]
  },
  {
   "cell_type": "markdown",
   "metadata": {},
   "source": [
    "Par exemple, la 1ère image de test appartient à la classe 9 (car c'est la plus proche de 1).\n",
    "Affichons ces résultats correctement..."
   ]
  },
  {
   "cell_type": "code",
   "execution_count": 19,
   "metadata": {},
   "outputs": [],
   "source": [
    "def plot_image(i, predictions_array, true_label, img):\n",
    "  predictions_array, true_label, img = predictions_array[i], true_label[i], img[i]\n",
    "  plt.grid(False)\n",
    "  plt.xticks([])\n",
    "  plt.yticks([])\n",
    "  \n",
    "  plt.imshow(img, cmap=plt.cm.binary)\n",
    "\n",
    "  predicted_label = np.argmax(predictions_array)\n",
    "  if predicted_label == true_label:\n",
    "    color = 'blue'\n",
    "  else:\n",
    "    color = 'red'\n",
    "  \n",
    "  plt.xlabel(\"{} {:2.0f}% ({})\".format(class_names[predicted_label],\n",
    "                                100*np.max(predictions_array),\n",
    "                                class_names[true_label]),\n",
    "                                color=color)\n",
    "\n",
    "\n",
    "def plot_value_array(i, predictions_array, true_label):\n",
    "  predictions_array, true_label = predictions_array[i], true_label[i]\n",
    "  plt.grid(False)\n",
    "  plt.xticks([])\n",
    "  plt.yticks([])\n",
    "  thisplot = plt.bar(range(10), predictions_array, color=\"#777777\")\n",
    "  plt.ylim([0, 1]) \n",
    "  predicted_label = np.argmax(predictions_array)\n",
    " \n",
    "  thisplot[predicted_label].set_color('red')\n",
    "  thisplot[true_label].set_color('blue')"
   ]
  },
  {
   "cell_type": "code",
   "execution_count": 20,
   "metadata": {},
   "outputs": [
    {
     "data": {
      "image/png": "[encoded data removed]",
      "text/plain": [
       "<Figure size 432x216 with 2 Axes>"
      ]
     },
     "metadata": {},
     "output_type": "display_data"
    }
   ],
   "source": [
    "i = 0\n",
    "plt.figure(figsize=(6,3))\n",
    "plt.subplot(1,2,1)\n",
    "plot_image(i, predictions, y_test, x_test)\n",
    "plt.subplot(1,2,2)\n",
    "plot_value_array(i, predictions,  y_test)"
   ]
  },
  {
   "cell_type": "markdown",
   "metadata": {},
   "source": [
    "Ici, le label est bien prédit."
   ]
  },
  {
   "cell_type": "code",
   "execution_count": 23,
   "metadata": {},
   "outputs": [
    {
     "data": {
      "image/png": "[encoded data removed]",
      "text/plain": [
       "<Figure size 432x216 with 2 Axes>"
      ]
     },
     "metadata": {},
     "output_type": "display_data"
    }
   ],
   "source": [
    "i = 23\n",
    "plt.figure(figsize=(6,3))\n",
    "plt.subplot(1,2,1)\n",
    "plot_image(i, predictions, y_test, x_test)\n",
    "plt.subplot(1,2,2)\n",
    "plot_value_array(i, predictions,  y_test)"
   ]
  },
  {
   "cell_type": "markdown",
   "metadata": {},
   "source": [
    "Pour cette image, le modèle ne trouve pas le bon label et confond une botte et une sandale."
   ]
  },
  {
   "cell_type": "markdown",
   "metadata": {},
   "source": [
    "### Conclusion\n",
    "Le réseau de neuronnes perd près de 10% de précision entre les données d'apprentissage et les données de test. Cela est dû à du surapprentissage. On dit que le réseau généralise mal. Afin d'éviter ce problème, on aurait pu optimiser les nombres de neuronnes et de couches."
   ]
  },
  {
   "cell_type": "code",
   "execution_count": null,
   "metadata": {},
   "outputs": [],
   "source": []
  }
 ],
 "metadata": {
  "kernelspec": {
   "display_name": "Python 3",
   "language": "python",
   "name": "python3"
  },
  "language_info": {
   "codemirror_mode": {
    "name": "ipython",
    "version": 3
   },
   "file_extension": ".py",
   "mimetype": "text/x-python",
   "name": "python",
   "nbconvert_exporter": "python",
   "pygments_lexer": "ipython3",
   "version": "3.6.6"
  }
 },
 "nbformat": 4,
 "nbformat_minor": 2
}
