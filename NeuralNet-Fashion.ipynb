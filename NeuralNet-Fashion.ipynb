{
 "cells": [
  {
   "cell_type": "markdown",
   "metadata": {},
   "source": [
    "# Projet Python\n",
    "\n",
    "## Classification d'images avec réseaux de neurones\n",
    "\n",
    "Wael Osmani - Salim Talout Zitan\n",
    "\n",
    "### Introduction\n",
    "\n",
    "Dans le cadre du PAO Python for nummies, nous avons réalisé un projet qui permet de classifier des images avec un réseaux de neurones. Ces images sont des pièces vêtements, comportant en tout 10 classes différentes. Nous allons tout d'abord importer les données d'entraînement et de test. Ensuite nous allons définir un réseau de neurones grâce à la librairie Keras. Puis nous allons compiler notre modèle pour ensuite l'entraîner. Enfin nous allons évaluer la précision de notre réseau sur les données de test, puis faire de la prédiction de classes sur les données test."
   ]
  },
  {
   "cell_type": "markdown",
   "metadata": {},
   "source": [
    "### Import des librairies :"
   ]
  },
  {
   "cell_type": "code",
   "execution_count": 1,
   "metadata": {},
   "outputs": [],
   "source": [
    "import tensorflow as tf\n",
    "from tensorflow import keras\n",
    "from tensorflow.keras import Sequential\n",
    "from tensorflow.keras.layers import Flatten, Dense\n",
    "import numpy as np\n",
    "import matplotlib.pyplot as plt"
   ]
  },
  {
   "cell_type": "markdown",
   "metadata": {},
   "source": [
    "### Import des données"
   ]
  },
  {
   "cell_type": "code",
   "execution_count": 2,
   "metadata": {},
   "outputs": [
    {
     "name": "stderr",
     "output_type": "stream",
     "text": [
      "Using TensorFlow backend.\n"
     ]
    }
   ],
   "source": [
    "from keras.datasets import fashion_mnist\n",
    "(x_train, y_train), (x_test, y_test) = fashion_mnist.load_data()"
   ]
  },
  {
   "cell_type": "markdown",
   "metadata": {},
   "source": [
    "Les objets **x_train**, **y_train**, **x_test** et **y_test** sont des ndarrays."
   ]
  },
  {
   "cell_type": "markdown",
   "metadata": {},
   "source": [
    "### Informations sur les données"
   ]
  },
  {
   "cell_type": "markdown",
   "metadata": {},
   "source": [
    "#### Données d'entrainement"
   ]
  },
  {
   "cell_type": "code",
   "execution_count": 3,
   "metadata": {},
   "outputs": [
    {
     "data": {
      "text/plain": [
       "(60000, 28, 28)"
      ]
     },
     "execution_count": 3,
     "metadata": {},
     "output_type": "execute_result"
    }
   ],
   "source": [
    "x_train.shape"
   ]
  },
  {
   "cell_type": "markdown",
   "metadata": {},
   "source": [
    "Nous avons donc 60 000 images d'entrainement de 28x28 pixels."
   ]
  },
  {
   "cell_type": "code",
   "execution_count": 4,
   "metadata": {},
   "outputs": [
    {
     "data": {
      "text/plain": [
       "60000"
      ]
     },
     "execution_count": 4,
     "metadata": {},
     "output_type": "execute_result"
    }
   ],
   "source": [
    "len(y_train)"
   ]
  },
  {
   "cell_type": "markdown",
   "metadata": {},
   "source": [
    "Nous avons aussi 60 000 labels associés aux images d'entrainement."
   ]
  },
  {
   "cell_type": "code",
   "execution_count": 5,
   "metadata": {},
   "outputs": [
    {
     "data": {
      "text/plain": [
       "array([0, 1, 2, 3, 4, 5, 6, 7, 8, 9], dtype=uint8)"
      ]
     },
     "execution_count": 5,
     "metadata": {},
     "output_type": "execute_result"
    }
   ],
   "source": [
    "np.unique(y_train)"
   ]
  },
  {
   "cell_type": "markdown",
   "metadata": {},
   "source": [
    "Les labels sont des chiffres entiers entre 0 et 9. Ajoutons donc les noms des labels."
   ]
  },
  {
   "cell_type": "code",
   "execution_count": 6,
   "metadata": {},
   "outputs": [],
   "source": [
    "noms_labels = ['T-shirt', 'Pantalon', 'Pull', 'Robe', 'Manteau', \n",
    "               'Sandale', 'Chemise', 'Basket', 'Sac', 'Bottine']"
   ]
  },
  {
   "cell_type": "markdown",
   "metadata": {},
   "source": [
    "#### Données de test"
   ]
  },
  {
   "cell_type": "code",
   "execution_count": 7,
   "metadata": {},
   "outputs": [
    {
     "data": {
      "text/plain": [
       "(10000, 28, 28)"
      ]
     },
     "execution_count": 7,
     "metadata": {},
     "output_type": "execute_result"
    }
   ],
   "source": [
    "x_test.shape"
   ]
  },
  {
   "cell_type": "markdown",
   "metadata": {},
   "source": [
    "Nous avons donc 10 000 images de test de 28x28 pixels."
   ]
  },
  {
   "cell_type": "code",
   "execution_count": 8,
   "metadata": {},
   "outputs": [
    {
     "data": {
      "text/plain": [
       "10000"
      ]
     },
     "execution_count": 8,
     "metadata": {},
     "output_type": "execute_result"
    }
   ],
   "source": [
    "len(y_test)"
   ]
  },
  {
   "cell_type": "markdown",
   "metadata": {},
   "source": [
    "De la même façon, nous avons 10 000 labels associés aux images de test."
   ]
  },
  {
   "cell_type": "markdown",
   "metadata": {},
   "source": [
    "### Prétraitement des données"
   ]
  },
  {
   "cell_type": "markdown",
   "metadata": {},
   "source": [
    "Avant d'entrainer le modèle, voyons à quoi ressemblent nos données. Nous ajoutons `cmap=gray` pour afficher les images en noir et blanc."
   ]
  },
  {
   "cell_type": "code",
   "execution_count": 31,
   "metadata": {},
   "outputs": [
    {
     "data": {
      "image/png": "[encoded data removed]",
      "text/plain": [
       "<Figure size 432x288 with 2 Axes>"
      ]
     },
     "metadata": {},
     "output_type": "display_data"
    }
   ],
   "source": [
    "plt.figure()\n",
    "plt.imshow(x_train[69], cmap=plt.cm.binary)\n",
    "plt.colorbar()\n",
    "plt.grid(False)"
   ]
  },
  {
   "cell_type": "markdown",
   "metadata": {},
   "source": [
    "Les valeurs des pixels vont de 0 à 255. Passons ces valeurs à une échelle allant de 0 à 1."
   ]
  },
  {
   "cell_type": "code",
   "execution_count": 10,
   "metadata": {},
   "outputs": [],
   "source": [
    "x_train = x_train/255\n",
    "x_test = x_test/255"
   ]
  },
  {
   "cell_type": "code",
   "execution_count": 32,
   "metadata": {},
   "outputs": [
    {
     "data": {
      "image/png": "[encoded data removed]",
      "text/plain": [
       "<Figure size 432x288 with 2 Axes>"
      ]
     },
     "metadata": {},
     "output_type": "display_data"
    }
   ],
   "source": [
    "plt.figure()\n",
    "plt.imshow(x_train[69], cmap=plt.cm.binary)\n",
    "plt.colorbar()\n",
    "plt.grid(False)"
   ]
  },
  {
   "cell_type": "markdown",
   "metadata": {},
   "source": [
    "De cette manière, les pixels des données d'entrainement et de test vont de 0 à 1."
   ]
  },
  {
   "cell_type": "markdown",
   "metadata": {},
   "source": [
    "### Affichage d'un sample de données"
   ]
  },
  {
   "cell_type": "markdown",
   "metadata": {},
   "source": [
    "Affichons les différentes classes présentes dans cette base de donnée."
   ]
  },
  {
   "cell_type": "code",
   "execution_count": 33,
   "metadata": {},
   "outputs": [
    {
     "data": {
      "image/png": "[encoded data removed]",
      "text/plain": [
       "<Figure size 648x648 with 25 Axes>"
      ]
     },
     "metadata": {},
     "output_type": "display_data"
    }
   ],
   "source": [
    "plt.figure(figsize=(9,9))\n",
    "for i in range(25):\n",
    "    plt.subplot(5,5,i+1)\n",
    "    plt.xticks([])\n",
    "    plt.yticks([])\n",
    "    plt.grid(False)\n",
    "    plt.imshow(x_train[i], cmap=plt.cm.binary)\n",
    "    plt.xlabel(noms_labels[y_train[i]])"
   ]
  },
  {
   "cell_type": "markdown",
   "metadata": {},
   "source": [
    "### Le modèle"
   ]
  },
  {
   "cell_type": "markdown",
   "metadata": {},
   "source": [
    "#### Mise en place des couches"
   ]
  },
  {
   "cell_type": "code",
   "execution_count": 13,
   "metadata": {},
   "outputs": [],
   "source": [
    "model = Sequential([\n",
    "    Flatten(input_shape=(28, 28)),\n",
    "    Dense(128, activation=tf.nn.relu),\n",
    "    Dense(10, activation=tf.nn.softmax)\n",
    "])"
   ]
  },
  {
   "cell_type": "markdown",
   "metadata": {},
   "source": [
    "- La 1ère couche (Flatten) permet de transformer l'image 2D d'entrée (28x28) en vecteur 1D de 28x28 = 784 pixels.\n",
    "- Ensuite, les 2 autres couches sont des couches denses.\n",
    "    - La 1ère contient 128 neuronnes\n",
    "    - La 2ème retourne un tableau de 10 scores, qui indique la probabilité pour chaque score que l'image appartienne à une classe."
   ]
  },
  {
   "cell_type": "markdown",
   "metadata": {},
   "source": [
    "#### Compilation du modèle"
   ]
  },
  {
   "cell_type": "markdown",
   "metadata": {},
   "source": [
    "Avant d'entrainer le modèle, il faut ajouter certains paramètres.\n",
    "- Nous y ajouterons un *Optimizer*, qui permet de mettre à jour le modèle en fonction des données et de la *Loss function*\n",
    "- Ensuite, nous y ajouterons une *Loss function*, qui permet de tester la précision du modèle. Le but est faire tendre cette valeur vers 0.\n",
    "- Enfin, nous y ajouterons un *Metrics*, qui permet de monitorer les phases d'entrainement et de test, en indiquant les images correctement classifiées."
   ]
  },
  {
   "cell_type": "code",
   "execution_count": 14,
   "metadata": {},
   "outputs": [],
   "source": [
    "model.compile(optimizer=tf.train.AdamOptimizer(),\n",
    "              loss='sparse_categorical_crossentropy',\n",
    "              metrics=['accuracy'])"
   ]
  },
  {
   "cell_type": "markdown",
   "metadata": {},
   "source": [
    "#### Entrainement du modèle"
   ]
  },
  {
   "cell_type": "markdown",
   "metadata": {},
   "source": [
    "On donne au modèle les données d'entrainement, ainsi que leurs labels. Il apprendra ensuite à associer correctement les images et leurs labels, pour ainsi pourvoir faire des prédictions sur les données de test.\n",
    "Le nombre d'epochs correspond au nombre d'itérations que l'on souhaite réaliser, plus le nombre est grand, plus le modèle réussi à minimiser la Loss function. \n"
   ]
  },
  {
   "cell_type": "code",
   "execution_count": 15,
   "metadata": {
    "scrolled": true
   },
   "outputs": [
    {
     "name": "stdout",
     "output_type": "stream",
     "text": [
      "Epoch 1/100\n",
      "60000/60000 [==============================] - 3s 54us/step - loss: 0.4970 - acc: 0.8247\n",
      "Epoch 2/100\n",
      "60000/60000 [==============================] - 3s 46us/step - loss: 0.3742 - acc: 0.8642\n",
      "Epoch 3/100\n",
      "60000/60000 [==============================] - 3s 45us/step - loss: 0.3352 - acc: 0.8787\n",
      "Epoch 4/100\n",
      "60000/60000 [==============================] - 3s 43us/step - loss: 0.3134 - acc: 0.8852\n",
      "Epoch 5/100\n",
      "60000/60000 [==============================] - 3s 45us/step - loss: 0.2945 - acc: 0.8923\n",
      "Epoch 6/100\n",
      "60000/60000 [==============================] - 3s 48us/step - loss: 0.2809 - acc: 0.8964\n",
      "Epoch 7/100\n",
      "60000/60000 [==============================] - 3s 47us/step - loss: 0.2667 - acc: 0.9003: 0s - loss: 0.2667 - acc:\n",
      "Epoch 8/100\n",
      "60000/60000 [==============================] - 3s 44us/step - loss: 0.2587 - acc: 0.9043\n",
      "Epoch 9/100\n",
      "60000/60000 [==============================] - 3s 42us/step - loss: 0.2480 - acc: 0.9069\n",
      "Epoch 10/100\n",
      "60000/60000 [==============================] - 3s 42us/step - loss: 0.2389 - acc: 0.9103\n",
      "Epoch 11/100\n",
      "60000/60000 [==============================] - 3s 42us/step - loss: 0.2306 - acc: 0.9133\n",
      "Epoch 12/100\n",
      "60000/60000 [==============================] - 3s 44us/step - loss: 0.2228 - acc: 0.9163\n",
      "Epoch 13/100\n",
      "60000/60000 [==============================] - 3s 44us/step - loss: 0.2159 - acc: 0.9179\n",
      "Epoch 14/100\n",
      "60000/60000 [==============================] - 3s 51us/step - loss: 0.2120 - acc: 0.9204\n",
      "Epoch 15/100\n",
      "60000/60000 [==============================] - 3s 46us/step - loss: 0.2032 - acc: 0.9240\n",
      "Epoch 16/100\n",
      "60000/60000 [==============================] - 3s 43us/step - loss: 0.1981 - acc: 0.9259\n",
      "Epoch 17/100\n",
      "60000/60000 [==============================] - 3s 49us/step - loss: 0.1933 - acc: 0.9266\n",
      "Epoch 18/100\n",
      "60000/60000 [==============================] - 3s 43us/step - loss: 0.1894 - acc: 0.9292\n",
      "Epoch 19/100\n",
      "60000/60000 [==============================] - 3s 48us/step - loss: 0.1825 - acc: 0.9317\n",
      "Epoch 20/100\n",
      "60000/60000 [==============================] - 3s 47us/step - loss: 0.1786 - acc: 0.9324\n",
      "Epoch 21/100\n",
      "60000/60000 [==============================] - 3s 43us/step - loss: 0.1752 - acc: 0.9340\n",
      "Epoch 22/100\n",
      "60000/60000 [==============================] - 3s 43us/step - loss: 0.1693 - acc: 0.9363\n",
      "Epoch 23/100\n",
      "60000/60000 [==============================] - 3s 43us/step - loss: 0.1660 - acc: 0.9368\n",
      "Epoch 24/100\n",
      "60000/60000 [==============================] - 3s 51us/step - loss: 0.1620 - acc: 0.9396\n",
      "Epoch 25/100\n",
      "60000/60000 [==============================] - 3s 50us/step - loss: 0.1596 - acc: 0.9404: 0s - loss: 0.1606 - acc: 0\n",
      "Epoch 26/100\n",
      "60000/60000 [==============================] - 3s 46us/step - loss: 0.1549 - acc: 0.9410\n",
      "Epoch 27/100\n",
      "60000/60000 [==============================] - 3s 46us/step - loss: 0.1517 - acc: 0.9433\n",
      "Epoch 28/100\n",
      "60000/60000 [==============================] - 3s 45us/step - loss: 0.1481 - acc: 0.9446\n",
      "Epoch 29/100\n",
      "60000/60000 [==============================] - 3s 43us/step - loss: 0.1438 - acc: 0.9463\n",
      "Epoch 30/100\n",
      "60000/60000 [==============================] - 3s 43us/step - loss: 0.1419 - acc: 0.9467\n",
      "Epoch 31/100\n",
      "60000/60000 [==============================] - 3s 47us/step - loss: 0.1388 - acc: 0.9483\n",
      "Epoch 32/100\n",
      "60000/60000 [==============================] - 3s 44us/step - loss: 0.1365 - acc: 0.9482\n",
      "Epoch 33/100\n",
      "60000/60000 [==============================] - 3s 43us/step - loss: 0.1349 - acc: 0.9498\n",
      "Epoch 34/100\n",
      "60000/60000 [==============================] - 3s 43us/step - loss: 0.1307 - acc: 0.9513\n",
      "Epoch 35/100\n",
      "60000/60000 [==============================] - 3s 43us/step - loss: 0.1300 - acc: 0.9511: 0s - loss: 0.1300 - acc: 0.95\n",
      "Epoch 36/100\n",
      "60000/60000 [==============================] - 3s 48us/step - loss: 0.1263 - acc: 0.9526\n",
      "Epoch 37/100\n",
      "60000/60000 [==============================] - 3s 43us/step - loss: 0.1238 - acc: 0.9537\n",
      "Epoch 38/100\n",
      "60000/60000 [==============================] - 3s 43us/step - loss: 0.1198 - acc: 0.9559\n",
      "Epoch 39/100\n",
      "60000/60000 [==============================] - 3s 43us/step - loss: 0.1186 - acc: 0.9552\n",
      "Epoch 40/100\n",
      "60000/60000 [==============================] - 3s 43us/step - loss: 0.1176 - acc: 0.9550\n",
      "Epoch 41/100\n",
      "60000/60000 [==============================] - 3s 43us/step - loss: 0.1151 - acc: 0.9561\n",
      "Epoch 42/100\n",
      "60000/60000 [==============================] - 3s 44us/step - loss: 0.1129 - acc: 0.9574\n",
      "Epoch 43/100\n",
      "60000/60000 [==============================] - 3s 44us/step - loss: 0.1123 - acc: 0.9579\n",
      "Epoch 44/100\n",
      "60000/60000 [==============================] - 3s 49us/step - loss: 0.1078 - acc: 0.9596: 2s - loss: 0.0973 - acc: - ETA: 1s - loss: 0.1017 - a - ETA: 1s - loss: 0\n",
      "Epoch 45/100\n",
      "60000/60000 [==============================] - 3s 43us/step - loss: 0.1068 - acc: 0.9607\n",
      "Epoch 46/100\n",
      "60000/60000 [==============================] - 3s 44us/step - loss: 0.1050 - acc: 0.9617\n",
      "Epoch 47/100\n",
      "60000/60000 [==============================] - 3s 44us/step - loss: 0.1041 - acc: 0.9609\n",
      "Epoch 48/100\n",
      "60000/60000 [==============================] - 3s 48us/step - loss: 0.0996 - acc: 0.9632: 0s - loss: 0.0976 - a\n",
      "Epoch 49/100\n",
      "60000/60000 [==============================] - 3s 43us/step - loss: 0.0982 - acc: 0.9635\n",
      "Epoch 50/100\n",
      "60000/60000 [==============================] - 3s 44us/step - loss: 0.0986 - acc: 0.9631: 0s - loss: 0.0986 - acc: 0.\n",
      "Epoch 51/100\n",
      "60000/60000 [==============================] - 3s 44us/step - loss: 0.0970 - acc: 0.9634\n",
      "Epoch 52/100\n",
      "60000/60000 [==============================] - 3s 44us/step - loss: 0.0959 - acc: 0.9642\n",
      "Epoch 53/100\n",
      "60000/60000 [==============================] - 3s 44us/step - loss: 0.0944 - acc: 0.9641\n",
      "Epoch 54/100\n",
      "60000/60000 [==============================] - 3s 46us/step - loss: 0.0920 - acc: 0.9656\n",
      "Epoch 55/100\n",
      "60000/60000 [==============================] - 3s 45us/step - loss: 0.0891 - acc: 0.9668\n",
      "Epoch 56/100\n",
      "60000/60000 [==============================] - 3s 50us/step - loss: 0.0896 - acc: 0.9658\n",
      "Epoch 57/100\n",
      "60000/60000 [==============================] - 3s 50us/step - loss: 0.0874 - acc: 0.9678\n",
      "Epoch 58/100\n",
      "60000/60000 [==============================] - 3s 47us/step - loss: 0.0860 - acc: 0.9678\n",
      "Epoch 59/100\n",
      "60000/60000 [==============================] - 3s 47us/step - loss: 0.0855 - acc: 0.9682\n",
      "Epoch 60/100\n",
      "60000/60000 [==============================] - 3s 46us/step - loss: 0.0859 - acc: 0.9681\n",
      "Epoch 61/100\n",
      "60000/60000 [==============================] - 3s 48us/step - loss: 0.0830 - acc: 0.9687\n",
      "Epoch 62/100\n",
      "60000/60000 [==============================] - 3s 50us/step - loss: 0.0825 - acc: 0.9692\n",
      "Epoch 63/100\n",
      "60000/60000 [==============================] - 3s 45us/step - loss: 0.0821 - acc: 0.9696: 1s - \n",
      "Epoch 64/100\n",
      "60000/60000 [==============================] - 3s 45us/step - loss: 0.0801 - acc: 0.9706\n",
      "Epoch 65/100\n",
      "60000/60000 [==============================] - 3s 44us/step - loss: 0.0805 - acc: 0.9706\n",
      "Epoch 66/100\n",
      "60000/60000 [==============================] - 3s 50us/step - loss: 0.0755 - acc: 0.9721\n",
      "Epoch 67/100\n",
      "60000/60000 [==============================] - 3s 43us/step - loss: 0.0759 - acc: 0.9713\n",
      "Epoch 68/100\n",
      "60000/60000 [==============================] - 3s 46us/step - loss: 0.0761 - acc: 0.9711\n",
      "Epoch 69/100\n",
      "60000/60000 [==============================] - 3s 48us/step - loss: 0.0749 - acc: 0.9722\n",
      "Epoch 70/100\n",
      "60000/60000 [==============================] - 3s 47us/step - loss: 0.0750 - acc: 0.9718\n",
      "Epoch 71/100\n",
      "60000/60000 [==============================] - 3s 44us/step - loss: 0.0733 - acc: 0.9723\n",
      "Epoch 72/100\n",
      "60000/60000 [==============================] - 3s 43us/step - loss: 0.0722 - acc: 0.9732\n",
      "Epoch 73/100\n",
      "60000/60000 [==============================] - 3s 49us/step - loss: 0.0711 - acc: 0.9734: 0s - loss: 0\n",
      "Epoch 74/100\n",
      "60000/60000 [==============================] - 3s 44us/step - loss: 0.0693 - acc: 0.9740\n",
      "Epoch 75/100\n",
      "60000/60000 [==============================] - 3s 44us/step - loss: 0.0688 - acc: 0.9741\n",
      "Epoch 76/100\n",
      "60000/60000 [==============================] - 3s 45us/step - loss: 0.0679 - acc: 0.9743: 1s\n",
      "Epoch 77/100\n",
      "60000/60000 [==============================] - 3s 45us/step - loss: 0.0692 - acc: 0.9739\n",
      "Epoch 78/100\n",
      "60000/60000 [==============================] - 3s 47us/step - loss: 0.0659 - acc: 0.9748\n",
      "Epoch 79/100\n"
     ]
    },
    {
     "name": "stdout",
     "output_type": "stream",
     "text": [
      "60000/60000 [==============================] - 3s 48us/step - loss: 0.0652 - acc: 0.9761\n",
      "Epoch 80/100\n",
      "60000/60000 [==============================] - 3s 48us/step - loss: 0.0657 - acc: 0.9751\n",
      "Epoch 81/100\n",
      "60000/60000 [==============================] - 3s 49us/step - loss: 0.0679 - acc: 0.9746\n",
      "Epoch 82/100\n",
      "60000/60000 [==============================] - 3s 50us/step - loss: 0.0636 - acc: 0.9759\n",
      "Epoch 83/100\n",
      "60000/60000 [==============================] - 3s 47us/step - loss: 0.0614 - acc: 0.9776\n",
      "Epoch 84/100\n",
      "60000/60000 [==============================] - 3s 44us/step - loss: 0.0622 - acc: 0.9765\n",
      "Epoch 85/100\n",
      "60000/60000 [==============================] - 3s 42us/step - loss: 0.0601 - acc: 0.9781\n",
      "Epoch 86/100\n",
      "60000/60000 [==============================] - 3s 43us/step - loss: 0.0624 - acc: 0.9768\n",
      "Epoch 87/100\n",
      "60000/60000 [==============================] - 3s 45us/step - loss: 0.0592 - acc: 0.9777\n",
      "Epoch 88/100\n",
      "60000/60000 [==============================] - 3s 44us/step - loss: 0.0604 - acc: 0.9777\n",
      "Epoch 89/100\n",
      "60000/60000 [==============================] - 3s 45us/step - loss: 0.0561 - acc: 0.9793\n",
      "Epoch 90/100\n",
      "60000/60000 [==============================] - 3s 44us/step - loss: 0.0599 - acc: 0.9778\n",
      "Epoch 91/100\n",
      "60000/60000 [==============================] - 3s 45us/step - loss: 0.0593 - acc: 0.9775\n",
      "Epoch 92/100\n",
      "60000/60000 [==============================] - 3s 46us/step - loss: 0.0561 - acc: 0.9795\n",
      "Epoch 93/100\n",
      "60000/60000 [==============================] - 3s 44us/step - loss: 0.0568 - acc: 0.9791\n",
      "Epoch 94/100\n",
      "60000/60000 [==============================] - 3s 43us/step - loss: 0.0572 - acc: 0.9781\n",
      "Epoch 95/100\n",
      "60000/60000 [==============================] - 3s 43us/step - loss: 0.0559 - acc: 0.9797\n",
      "Epoch 96/100\n",
      "60000/60000 [==============================] - 3s 47us/step - loss: 0.0537 - acc: 0.9805: 0s - loss: 0.0514 - ac\n",
      "Epoch 97/100\n",
      "60000/60000 [==============================] - 3s 43us/step - loss: 0.0553 - acc: 0.9793\n",
      "Epoch 98/100\n",
      "60000/60000 [==============================] - 3s 44us/step - loss: 0.0528 - acc: 0.9808: 1s -\n",
      "Epoch 99/100\n",
      "60000/60000 [==============================] - 3s 44us/step - loss: 0.0526 - acc: 0.9804\n",
      "Epoch 100/100\n",
      "60000/60000 [==============================] - 3s 44us/step - loss: 0.0516 - acc: 0.9800\n"
     ]
    },
    {
     "data": {
      "text/plain": [
       "<tensorflow.python.keras.callbacks.History at 0xb453f6128>"
      ]
     },
     "execution_count": 15,
     "metadata": {},
     "output_type": "execute_result"
    }
   ],
   "source": [
    "model.fit(x_train, y_train, epochs=100)"
   ]
  },
  {
   "cell_type": "markdown",
   "metadata": {},
   "source": [
    "- 10 epochs donnent une précision de 91%.\n",
    "- 100 epochs donnent une précision de 98.1%"
   ]
  },
  {
   "cell_type": "markdown",
   "metadata": {},
   "source": [
    "#### Évaluation du modèle"
   ]
  },
  {
   "cell_type": "markdown",
   "metadata": {},
   "source": [
    "Voyons maintenant comment se comporte le modèle avec les données de test."
   ]
  },
  {
   "cell_type": "code",
   "execution_count": 20,
   "metadata": {},
   "outputs": [
    {
     "name": "stdout",
     "output_type": "stream",
     "text": [
      "10000/10000 [==============================] - 0s 26us/step\n",
      "Précision sur données de test :  0.8826\n"
     ]
    }
   ],
   "source": [
    "test_loss, test_acc = model.evaluate(x_test, y_test)\n",
    "print('Précision sur données de test : ', test_acc)"
   ]
  },
  {
   "cell_type": "markdown",
   "metadata": {},
   "source": [
    "On voit que le modèle perd 10% de précision. Cette différence entre précision d'entrainement et de test est un exemple de *sur-apprentissage*.\n",
    "Le sur-apprentissage est un phénomène en statistique, où le modèle s'adapte à un ensemble **particulier** de données, ainsi, lorsqu'on le teste sur d'autres données, celui-ci ne se généralise pas de la manière attendue, et perd en précision."
   ]
  },
  {
   "cell_type": "markdown",
   "metadata": {},
   "source": [
    "### Prédictions sur des images"
   ]
  },
  {
   "cell_type": "markdown",
   "metadata": {},
   "source": [
    "Gardons ce modèle et testons de prédire les classes que quelques images."
   ]
  },
  {
   "cell_type": "code",
   "execution_count": 19,
   "metadata": {},
   "outputs": [],
   "source": [
    "predictions = model.predict(x_test)"
   ]
  },
  {
   "cell_type": "markdown",
   "metadata": {},
   "source": [
    "L'objet *predictions* contient un tableau de scores pour chaque image de test."
   ]
  },
  {
   "cell_type": "code",
   "execution_count": 20,
   "metadata": {},
   "outputs": [
    {
     "data": {
      "text/plain": [
       "array([1.4494720e-28, 3.8343583e-25, 0.0000000e+00, 2.3175099e-31,\n",
       "       2.7995391e-30, 1.9402623e-06, 1.0556165e-29, 3.0107492e-07,\n",
       "       1.8637069e-23, 9.9999774e-01], dtype=float32)"
      ]
     },
     "execution_count": 20,
     "metadata": {},
     "output_type": "execute_result"
    }
   ],
   "source": [
    "predictions[0]"
   ]
  },
  {
   "cell_type": "markdown",
   "metadata": {},
   "source": [
    "Par exemple, la 1ère image de test appartient à la classe 9 (car c'est la plus proche de 1).\n",
    "Affichons ces résultats correctement...\n",
    "\n",
    "Pour cela, nous allons définir deux fonctions.\n",
    "\n",
    "#### Affichage de l'image\n",
    "\n",
    "Nous allons tout d'abord afficher une image avec son label prédit, ainsi que son vrai label entre parenthèses dans la légende. La légende s'affichera en bleu si la prédiction est correcte, et en rouge si celle-ci n'est pas correcte."
   ]
  },
  {
   "cell_type": "code",
   "execution_count": 24,
   "metadata": {},
   "outputs": [],
   "source": [
    "def afficher_image_couleur_VF(i, predictions, vrai_labels, img):\n",
    "    predictions, vrai_label, img = predictions[i], vrai_labels[i], img[i]\n",
    "    plt.grid(False)\n",
    "    plt.xticks([])\n",
    "    plt.yticks([])\n",
    "    plt.imshow(img, cmap=plt.cm.binary)\n",
    "    label_predit = np.argmax(predictions)\n",
    "    \n",
    "    if label_predit == vrai_label:\n",
    "        color = 'blue'\n",
    "    else:\n",
    "        color = 'red'\n",
    "    \n",
    "    plt.xlabel(\"{} {:2.0f}% ({})\".format(\n",
    "        noms_labels[label_predit],\n",
    "        100*np.max(predictions),\n",
    "        noms_labels[vrai_label]),\n",
    "        color=color\n",
    "    )"
   ]
  },
  {
   "cell_type": "markdown",
   "metadata": {},
   "source": [
    "#### Affichage des prédictions\n",
    "\n",
    "Ensuite, nous allons afficher les prédictions pour chaque label. En rouge apparaissent les prédictions pour les faux labels, et en bleu pour le vrai label."
   ]
  },
  {
   "cell_type": "code",
   "execution_count": 27,
   "metadata": {},
   "outputs": [],
   "source": [
    "def afficher_val_prediction_couleur_VF(i, predictions, vrai_labels):\n",
    "    predictions, vrai_label = predictions[i], vrai_labels[i]\n",
    "    plt.grid(False)\n",
    "    plt.xticks([])\n",
    "    plt.yticks([])\n",
    "    figure = plt.bar(range(10), predictions, color=\"#777777\")\n",
    "    plt.ylim([0, 1]) \n",
    "    label_predit = np.argmax(predictions)\n",
    "    figure[label_predit].set_color('red')\n",
    "    figure[vrai_label].set_color('blue')"
   ]
  },
  {
   "cell_type": "markdown",
   "metadata": {},
   "source": [
    "Voyons ce que cela donne sur la toute première donnée..."
   ]
  },
  {
   "cell_type": "code",
   "execution_count": 28,
   "metadata": {
    "scrolled": true
   },
   "outputs": [
    {
     "data": {
      "image/png": "[encoded data removed]",
      "text/plain": [
       "<Figure size 432x216 with 2 Axes>"
      ]
     },
     "metadata": {},
     "output_type": "display_data"
    }
   ],
   "source": [
    "i = 0\n",
    "plt.figure(figsize=(6,3))\n",
    "plt.subplot(1,2,1)\n",
    "afficher_image_couleur_VF(i, predictions, y_test, x_test)\n",
    "plt.subplot(1,2,2)\n",
    "afficher_val_prediction_couleur_VF(i, predictions,  y_test)"
   ]
  },
  {
   "cell_type": "markdown",
   "metadata": {},
   "source": [
    "Ici, le label est bien prédit.\n",
    "\n",
    "Voyons maintenant ce que cela donne sur une image mal classifiée..."
   ]
  },
  {
   "cell_type": "code",
   "execution_count": 34,
   "metadata": {},
   "outputs": [
    {
     "data": {
      "image/png": "[encoded data removed]",
      "text/plain": [
       "<Figure size 432x216 with 2 Axes>"
      ]
     },
     "metadata": {},
     "output_type": "display_data"
    }
   ],
   "source": [
    "i = 12\n",
    "plt.figure(figsize=(6,3))\n",
    "plt.subplot(1,2,1)\n",
    "afficher_image_couleur_VF(i, predictions, y_test, x_test)\n",
    "plt.subplot(1,2,2)\n",
    "afficher_val_prediction_couleur_VF(i, predictions,  y_test)"
   ]
  },
  {
   "cell_type": "markdown",
   "metadata": {},
   "source": [
    "Pour cette image, le modèle ne trouve pas le bon label, et confond une sandale et une basket.\n",
    "\n",
    "### Conclusion\n",
    "\n",
    "Le réseau de neuronnes perd près de 10% de précision entre les données d'apprentissage et les données de test. Cela est dû à du surapprentissage. On dit que le réseau généralise mal. Afin d'éviter ce problème, on aurait pu optimiser les nombres de neuronnes et de couches."
   ]
  },
  {
   "cell_type": "code",
   "execution_count": null,
   "metadata": {},
   "outputs": [],
   "source": []
  }
 ],
 "metadata": {
  "kernelspec": {
   "display_name": "Python 3",
   "language": "python",
   "name": "python3"
  },
  "language_info": {
   "codemirror_mode": {
    "name": "ipython",
    "version": 3
   },
   "file_extension": ".py",
   "mimetype": "text/x-python",
   "name": "python",
   "nbconvert_exporter": "python",
   "pygments_lexer": "ipython3",
   "version": "3.6.5"
  }
 },
 "nbformat": 4,
 "nbformat_minor": 2
}
